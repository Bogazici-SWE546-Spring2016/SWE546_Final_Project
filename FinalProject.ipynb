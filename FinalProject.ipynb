{
 "cells": [
  {
   "cell_type": "markdown",
   "metadata": {},
   "source": [
    "# SWE-546 Final Project\n",
    "\n",
    "# Contributors\n",
    "\n",
    "Emre Bolat <br />\n",
    "Koray Bostancı <br />\n",
    "Taygun Gökdemir <br />\n",
    "<br />\n"
   ]
  },
  {
   "cell_type": "markdown",
   "metadata": {},
   "source": [
    "# Recommending Movies from the MovieLens Dataset"
   ]
  },
  {
   "cell_type": "markdown",
   "metadata": {},
   "source": [
    "These files contain 1,000,209 anonymous ratings of approximately 3,900 movies \n",
    "made by 6,040 MovieLens users who joined MovieLens in 2000. All ratings are contained in the file \"ratings.dat\", user information is in the file \"users.dat\" and movie information is in the file \"movies.dat\".\n"
   ]
  },
  {
   "cell_type": "code",
   "execution_count": 1,
   "metadata": {
    "collapsed": true
   },
   "outputs": [],
   "source": [
    "import pandas as pd\n",
    "import numpy as np"
   ]
  },
  {
   "cell_type": "markdown",
   "metadata": {},
   "source": [
    "# Building the data model"
   ]
  },
  {
   "cell_type": "markdown",
   "metadata": {},
   "source": [
    "First we start with reading the rating and movie data from files using Pandas. \n",
    "Next step is merging the movie and ratings tables.\n",
    "\n",
    "We've builded a data model named MoviLensData to encapsulate the movie and rating data together."
   ]
  },
  {
   "cell_type": "code",
   "execution_count": 2,
   "metadata": {
    "collapsed": true
   },
   "outputs": [],
   "source": [
    "class MovieLensData :\n",
    "    \n",
    "    def __init__(self):\n",
    "        movie_cols = ['movie_id', 'title', 'genres']\n",
    "        movie_data = pd.read_table('../data/ml-1m/movies.dat', sep='::', names=movie_cols, usecols=range(5), header=None, engine='python')\n",
    "        \n",
    "        rating_cols = ['user_id', 'movie_id', 'rating', 'timestamp']\n",
    "        rating_data = pd.read_table('../data/ml-1m/ratings.dat', sep='::', names=rating_cols, header=None, engine='python')\n",
    "        \n",
    "        movie_rating_data = pd.merge(movie_data, rating_data)\n",
    "        self.allratings = movie_rating_data"
   ]
  },
  {
   "cell_type": "code",
   "execution_count": 3,
   "metadata": {
    "collapsed": false
   },
   "outputs": [],
   "source": [
    "movielens = MovieLensData()"
   ]
  },
  {
   "cell_type": "code",
   "execution_count": 4,
   "metadata": {
    "collapsed": false
   },
   "outputs": [
    {
     "data": {
      "text/html": [
       "<div>\n",
       "<table border=\"1\" class=\"dataframe\">\n",
       "  <thead>\n",
       "    <tr style=\"text-align: right;\">\n",
       "      <th></th>\n",
       "      <th>movie_id</th>\n",
       "      <th>title</th>\n",
       "      <th>genres</th>\n",
       "      <th>user_id</th>\n",
       "      <th>rating</th>\n",
       "      <th>timestamp</th>\n",
       "    </tr>\n",
       "  </thead>\n",
       "  <tbody>\n",
       "    <tr>\n",
       "      <th>0</th>\n",
       "      <td>1</td>\n",
       "      <td>Toy Story (1995)</td>\n",
       "      <td>Animation|Children's|Comedy</td>\n",
       "      <td>1</td>\n",
       "      <td>5</td>\n",
       "      <td>978824268</td>\n",
       "    </tr>\n",
       "    <tr>\n",
       "      <th>1</th>\n",
       "      <td>1</td>\n",
       "      <td>Toy Story (1995)</td>\n",
       "      <td>Animation|Children's|Comedy</td>\n",
       "      <td>6</td>\n",
       "      <td>4</td>\n",
       "      <td>978237008</td>\n",
       "    </tr>\n",
       "    <tr>\n",
       "      <th>2</th>\n",
       "      <td>1</td>\n",
       "      <td>Toy Story (1995)</td>\n",
       "      <td>Animation|Children's|Comedy</td>\n",
       "      <td>8</td>\n",
       "      <td>4</td>\n",
       "      <td>978233496</td>\n",
       "    </tr>\n",
       "    <tr>\n",
       "      <th>3</th>\n",
       "      <td>1</td>\n",
       "      <td>Toy Story (1995)</td>\n",
       "      <td>Animation|Children's|Comedy</td>\n",
       "      <td>9</td>\n",
       "      <td>5</td>\n",
       "      <td>978225952</td>\n",
       "    </tr>\n",
       "    <tr>\n",
       "      <th>4</th>\n",
       "      <td>1</td>\n",
       "      <td>Toy Story (1995)</td>\n",
       "      <td>Animation|Children's|Comedy</td>\n",
       "      <td>10</td>\n",
       "      <td>5</td>\n",
       "      <td>978226474</td>\n",
       "    </tr>\n",
       "    <tr>\n",
       "      <th>5</th>\n",
       "      <td>1</td>\n",
       "      <td>Toy Story (1995)</td>\n",
       "      <td>Animation|Children's|Comedy</td>\n",
       "      <td>18</td>\n",
       "      <td>4</td>\n",
       "      <td>978154768</td>\n",
       "    </tr>\n",
       "    <tr>\n",
       "      <th>6</th>\n",
       "      <td>1</td>\n",
       "      <td>Toy Story (1995)</td>\n",
       "      <td>Animation|Children's|Comedy</td>\n",
       "      <td>19</td>\n",
       "      <td>5</td>\n",
       "      <td>978555994</td>\n",
       "    </tr>\n",
       "    <tr>\n",
       "      <th>7</th>\n",
       "      <td>1</td>\n",
       "      <td>Toy Story (1995)</td>\n",
       "      <td>Animation|Children's|Comedy</td>\n",
       "      <td>21</td>\n",
       "      <td>3</td>\n",
       "      <td>978139347</td>\n",
       "    </tr>\n",
       "    <tr>\n",
       "      <th>8</th>\n",
       "      <td>1</td>\n",
       "      <td>Toy Story (1995)</td>\n",
       "      <td>Animation|Children's|Comedy</td>\n",
       "      <td>23</td>\n",
       "      <td>4</td>\n",
       "      <td>978463614</td>\n",
       "    </tr>\n",
       "    <tr>\n",
       "      <th>9</th>\n",
       "      <td>1</td>\n",
       "      <td>Toy Story (1995)</td>\n",
       "      <td>Animation|Children's|Comedy</td>\n",
       "      <td>26</td>\n",
       "      <td>3</td>\n",
       "      <td>978130703</td>\n",
       "    </tr>\n",
       "  </tbody>\n",
       "</table>\n",
       "</div>"
      ],
      "text/plain": [
       "   movie_id             title                       genres  user_id  rating  \\\n",
       "0         1  Toy Story (1995)  Animation|Children's|Comedy        1       5   \n",
       "1         1  Toy Story (1995)  Animation|Children's|Comedy        6       4   \n",
       "2         1  Toy Story (1995)  Animation|Children's|Comedy        8       4   \n",
       "3         1  Toy Story (1995)  Animation|Children's|Comedy        9       5   \n",
       "4         1  Toy Story (1995)  Animation|Children's|Comedy       10       5   \n",
       "5         1  Toy Story (1995)  Animation|Children's|Comedy       18       4   \n",
       "6         1  Toy Story (1995)  Animation|Children's|Comedy       19       5   \n",
       "7         1  Toy Story (1995)  Animation|Children's|Comedy       21       3   \n",
       "8         1  Toy Story (1995)  Animation|Children's|Comedy       23       4   \n",
       "9         1  Toy Story (1995)  Animation|Children's|Comedy       26       3   \n",
       "\n",
       "   timestamp  \n",
       "0  978824268  \n",
       "1  978237008  \n",
       "2  978233496  \n",
       "3  978225952  \n",
       "4  978226474  \n",
       "5  978154768  \n",
       "6  978555994  \n",
       "7  978139347  \n",
       "8  978463614  \n",
       "9  978130703  "
      ]
     },
     "execution_count": 4,
     "metadata": {},
     "output_type": "execute_result"
    }
   ],
   "source": [
    "movielens.allratings[:10]"
   ]
  },
  {
   "cell_type": "code",
   "execution_count": 5,
   "metadata": {
    "collapsed": true
   },
   "outputs": [],
   "source": [
    "class MovieLensHelper :\n",
    "    \n",
    "    def __init__(self):\n",
    "        pass\n",
    "    \n",
    "    @staticmethod\n",
    "    def getRatingCountOfMovies(movielens):\n",
    "        return movielens.allratings['title'].value_counts()\n",
    "    \n",
    "    @staticmethod\n",
    "    def getMoviesFilteredByRatingCount(movielens, rating_greater_than=1):\n",
    "        allratings_indexed = movielens.allratings.set_index('title')\n",
    "        allratings_filtered = allratings_indexed.ix[movielens.allratings['title'].value_counts() > rating_greater_than]\n",
    "        \n",
    "        movie_titles = allratings_filtered.index.unique()\n",
    "        \n",
    "        allratings_new = allratings_filtered.drop(['timestamp','genres','movie_id'],axis=1)\n",
    "        \n",
    "        return movie_titles, allratings_new\n",
    "      \n",
    "    @staticmethod\n",
    "    def getAverageRatingsOfUsersByMovieId(moveielens):\n",
    "        avg_user_rating = movielens.allratings.groupby('user_id').mean().drop(['movie_id','timestamp'],axis=1)\n",
    "        avg_user_rating.columns = ['avg_rating']\n",
    "        \n",
    "        return avg_user_rating\n",
    "    \n",
    "    @staticmethod\n",
    "    def mergeDataSets(dataset1, dataset2, index_column=''):\n",
    "        merged_dataset = pd.merge(dataset1.reset_index(),dataset2.reset_index())\n",
    "        merged_dataset = merged_dataset.set_index(index_column)\n",
    "        \n",
    "        return merged_dataset\n",
    "    \n",
    "    @staticmethod\n",
    "    def setIndex(dataset, index_columns=[]):\n",
    "        ds = dataset.reset_index().set_index(index_columns)\n",
    "        ds.index\n",
    "        \n",
    "        return ds"
   ]
  },
  {
   "cell_type": "markdown",
   "metadata": {},
   "source": [
    "The below list shows the titles and the number of ratings among them."
   ]
  },
  {
   "cell_type": "code",
   "execution_count": 6,
   "metadata": {
    "collapsed": false
   },
   "outputs": [
    {
     "data": {
      "text/plain": [
       "American Beauty (1999)                                       3428\n",
       "Star Wars: Episode IV - A New Hope (1977)                    2991\n",
       "Star Wars: Episode V - The Empire Strikes Back (1980)        2990\n",
       "Star Wars: Episode VI - Return of the Jedi (1983)            2883\n",
       "Jurassic Park (1993)                                         2672\n",
       "Saving Private Ryan (1998)                                   2653\n",
       "Terminator 2: Judgment Day (1991)                            2649\n",
       "Matrix, The (1999)                                           2590\n",
       "Back to the Future (1985)                                    2583\n",
       "Silence of the Lambs, The (1991)                             2578\n",
       "Men in Black (1997)                                          2538\n",
       "Raiders of the Lost Ark (1981)                               2514\n",
       "Fargo (1996)                                                 2513\n",
       "Sixth Sense, The (1999)                                      2459\n",
       "Braveheart (1995)                                            2443\n",
       "Shakespeare in Love (1998)                                   2369\n",
       "Princess Bride, The (1987)                                   2318\n",
       "Schindler's List (1993)                                      2304\n",
       "L.A. Confidential (1997)                                     2288\n",
       "Groundhog Day (1993)                                         2278\n",
       "E.T. the Extra-Terrestrial (1982)                            2269\n",
       "Star Wars: Episode I - The Phantom Menace (1999)             2250\n",
       "Being John Malkovich (1999)                                  2241\n",
       "Shawshank Redemption, The (1994)                             2227\n",
       "Godfather, The (1972)                                        2223\n",
       "Forrest Gump (1994)                                          2194\n",
       "Ghostbusters (1984)                                          2181\n",
       "Pulp Fiction (1994)                                          2171\n",
       "Terminator, The (1984)                                       2098\n",
       "Toy Story (1995)                                             2077\n",
       "                                                             ... \n",
       "Aiqing wansui (1994)                                            1\n",
       "Tinseltown (1998)                                               1\n",
       "Wooden Man's Bride, The (Wu Kui) (1994)                         1\n",
       "Shadows (Cienie) (1988)                                         1\n",
       "Loves of Carmen, The (1948)                                     1\n",
       "Voyage to the Beginning of the World (1997)                     1\n",
       "Dream Man (1995)                                                1\n",
       "Project Moon Base (1953)                                        1\n",
       "Hillbillys in a Haunted House (1967)                            1\n",
       "Sleepover (1995)                                                1\n",
       "Never Met Picasso (1996)                                        1\n",
       "Lured (1947)                                                    1\n",
       "Small Faces (1995)                                              1\n",
       "Love Walked In (1998)                                           1\n",
       "Telling You (1998)                                              1\n",
       "Low Life, The (1994)                                            1\n",
       "Roula (1995)                                                    1\n",
       "Little Indian, Big City (Un indien dans la ville) (1994)        1\n",
       "Daens (1992)                                                    1\n",
       "Resurrection Man (1998)                                         1\n",
       "Kestrel's Eye (Falkens öga) (1998)                              1\n",
       "Live Virgin (1999)                                              1\n",
       "Slappy and the Stinkers (1998)                                  1\n",
       "Superweib, Das (1996)                                           1\n",
       "Proposition, The (1998)                                         1\n",
       "I Don't Want to Talk About It (De eso no se habla) (1993)       1\n",
       "Condition Red (1995)                                            1\n",
       "Underworld (1997)                                               1\n",
       "Full Speed (1996)                                               1\n",
       "Back Stage (2000)                                               1\n",
       "Name: title, dtype: int64"
      ]
     },
     "execution_count": 6,
     "metadata": {},
     "output_type": "execute_result"
    }
   ],
   "source": [
    "MovieLensHelper.getRatingCountOfMovies(movielens)"
   ]
  },
  {
   "cell_type": "code",
   "execution_count": 7,
   "metadata": {
    "collapsed": false
   },
   "outputs": [
    {
     "data": {
      "text/html": [
       "<div>\n",
       "<table border=\"1\" class=\"dataframe\">\n",
       "  <thead>\n",
       "    <tr style=\"text-align: right;\">\n",
       "      <th></th>\n",
       "      <th>user_id</th>\n",
       "      <th>rating</th>\n",
       "    </tr>\n",
       "    <tr>\n",
       "      <th>title</th>\n",
       "      <th></th>\n",
       "      <th></th>\n",
       "    </tr>\n",
       "  </thead>\n",
       "  <tbody>\n",
       "    <tr>\n",
       "      <th>Toy Story (1995)</th>\n",
       "      <td>1</td>\n",
       "      <td>5</td>\n",
       "    </tr>\n",
       "    <tr>\n",
       "      <th>Toy Story (1995)</th>\n",
       "      <td>6</td>\n",
       "      <td>4</td>\n",
       "    </tr>\n",
       "    <tr>\n",
       "      <th>Toy Story (1995)</th>\n",
       "      <td>8</td>\n",
       "      <td>4</td>\n",
       "    </tr>\n",
       "    <tr>\n",
       "      <th>Toy Story (1995)</th>\n",
       "      <td>9</td>\n",
       "      <td>5</td>\n",
       "    </tr>\n",
       "    <tr>\n",
       "      <th>Toy Story (1995)</th>\n",
       "      <td>10</td>\n",
       "      <td>5</td>\n",
       "    </tr>\n",
       "    <tr>\n",
       "      <th>Toy Story (1995)</th>\n",
       "      <td>18</td>\n",
       "      <td>4</td>\n",
       "    </tr>\n",
       "    <tr>\n",
       "      <th>Toy Story (1995)</th>\n",
       "      <td>19</td>\n",
       "      <td>5</td>\n",
       "    </tr>\n",
       "    <tr>\n",
       "      <th>Toy Story (1995)</th>\n",
       "      <td>21</td>\n",
       "      <td>3</td>\n",
       "    </tr>\n",
       "    <tr>\n",
       "      <th>Toy Story (1995)</th>\n",
       "      <td>23</td>\n",
       "      <td>4</td>\n",
       "    </tr>\n",
       "    <tr>\n",
       "      <th>Toy Story (1995)</th>\n",
       "      <td>26</td>\n",
       "      <td>3</td>\n",
       "    </tr>\n",
       "  </tbody>\n",
       "</table>\n",
       "</div>"
      ],
      "text/plain": [
       "                  user_id  rating\n",
       "title                            \n",
       "Toy Story (1995)        1       5\n",
       "Toy Story (1995)        6       4\n",
       "Toy Story (1995)        8       4\n",
       "Toy Story (1995)        9       5\n",
       "Toy Story (1995)       10       5\n",
       "Toy Story (1995)       18       4\n",
       "Toy Story (1995)       19       5\n",
       "Toy Story (1995)       21       3\n",
       "Toy Story (1995)       23       4\n",
       "Toy Story (1995)       26       3"
      ]
     },
     "execution_count": 7,
     "metadata": {},
     "output_type": "execute_result"
    }
   ],
   "source": [
    "movie_titles, ratings_filtered = MovieLensHelper.getMoviesFilteredByRatingCount(movielens,100)\n",
    "ratings_filtered[:10]"
   ]
  },
  {
   "cell_type": "code",
   "execution_count": 8,
   "metadata": {
    "collapsed": false
   },
   "outputs": [
    {
     "data": {
      "text/plain": [
       "array(['Toy Story (1995)', 'Jumanji (1995)', 'Grumpier Old Men (1995)',\n",
       "       ..., 'Meet the Parents (2000)', 'Requiem for a Dream (2000)',\n",
       "       'Contender, The (2000)'], dtype=object)"
      ]
     },
     "execution_count": 8,
     "metadata": {},
     "output_type": "execute_result"
    }
   ],
   "source": [
    "movie_titles"
   ]
  },
  {
   "cell_type": "markdown",
   "metadata": {},
   "source": [
    "# Adding Avg. User Ratings column \n",
    "\n",
    "A column for the average rating for each user across all movies that user rated is added. This is not required for the Pearson correlation, but is needed by the Adjusted Cosine Similary metric, which will be explored later. To do this aggregation of the ratings of the user from the ratings table is needed. \n"
   ]
  },
  {
   "cell_type": "code",
   "execution_count": 9,
   "metadata": {
    "collapsed": false
   },
   "outputs": [
    {
     "data": {
      "text/html": [
       "<div>\n",
       "<table border=\"1\" class=\"dataframe\">\n",
       "  <thead>\n",
       "    <tr style=\"text-align: right;\">\n",
       "      <th></th>\n",
       "      <th>avg_rating</th>\n",
       "    </tr>\n",
       "    <tr>\n",
       "      <th>user_id</th>\n",
       "      <th></th>\n",
       "    </tr>\n",
       "  </thead>\n",
       "  <tbody>\n",
       "    <tr>\n",
       "      <th>1</th>\n",
       "      <td>4.188679</td>\n",
       "    </tr>\n",
       "    <tr>\n",
       "      <th>2</th>\n",
       "      <td>3.713178</td>\n",
       "    </tr>\n",
       "    <tr>\n",
       "      <th>3</th>\n",
       "      <td>3.901961</td>\n",
       "    </tr>\n",
       "    <tr>\n",
       "      <th>4</th>\n",
       "      <td>4.190476</td>\n",
       "    </tr>\n",
       "    <tr>\n",
       "      <th>5</th>\n",
       "      <td>3.146465</td>\n",
       "    </tr>\n",
       "    <tr>\n",
       "      <th>6</th>\n",
       "      <td>3.901408</td>\n",
       "    </tr>\n",
       "    <tr>\n",
       "      <th>7</th>\n",
       "      <td>4.322581</td>\n",
       "    </tr>\n",
       "    <tr>\n",
       "      <th>8</th>\n",
       "      <td>3.884892</td>\n",
       "    </tr>\n",
       "    <tr>\n",
       "      <th>9</th>\n",
       "      <td>3.735849</td>\n",
       "    </tr>\n",
       "    <tr>\n",
       "      <th>10</th>\n",
       "      <td>4.114713</td>\n",
       "    </tr>\n",
       "  </tbody>\n",
       "</table>\n",
       "</div>"
      ],
      "text/plain": [
       "         avg_rating\n",
       "user_id            \n",
       "1          4.188679\n",
       "2          3.713178\n",
       "3          3.901961\n",
       "4          4.190476\n",
       "5          3.146465\n",
       "6          3.901408\n",
       "7          4.322581\n",
       "8          3.884892\n",
       "9          3.735849\n",
       "10         4.114713"
      ]
     },
     "execution_count": 9,
     "metadata": {},
     "output_type": "execute_result"
    }
   ],
   "source": [
    "avg_user_rating = MovieLensHelper.getAverageRatingsOfUsersByMovieId(movielens)\n",
    "avg_user_rating[:10]"
   ]
  },
  {
   "cell_type": "code",
   "execution_count": 10,
   "metadata": {
    "collapsed": false
   },
   "outputs": [
    {
     "data": {
      "text/html": [
       "<div>\n",
       "<table border=\"1\" class=\"dataframe\">\n",
       "  <thead>\n",
       "    <tr style=\"text-align: right;\">\n",
       "      <th></th>\n",
       "      <th>user_id</th>\n",
       "      <th>rating</th>\n",
       "      <th>avg_rating</th>\n",
       "    </tr>\n",
       "    <tr>\n",
       "      <th>title</th>\n",
       "      <th></th>\n",
       "      <th></th>\n",
       "      <th></th>\n",
       "    </tr>\n",
       "  </thead>\n",
       "  <tbody>\n",
       "    <tr>\n",
       "      <th>Toy Story (1995)</th>\n",
       "      <td>1</td>\n",
       "      <td>5</td>\n",
       "      <td>4.188679</td>\n",
       "    </tr>\n",
       "    <tr>\n",
       "      <th>Pocahontas (1995)</th>\n",
       "      <td>1</td>\n",
       "      <td>5</td>\n",
       "      <td>4.188679</td>\n",
       "    </tr>\n",
       "    <tr>\n",
       "      <th>Apollo 13 (1995)</th>\n",
       "      <td>1</td>\n",
       "      <td>5</td>\n",
       "      <td>4.188679</td>\n",
       "    </tr>\n",
       "    <tr>\n",
       "      <th>Star Wars: Episode IV - A New Hope (1977)</th>\n",
       "      <td>1</td>\n",
       "      <td>4</td>\n",
       "      <td>4.188679</td>\n",
       "    </tr>\n",
       "    <tr>\n",
       "      <th>Schindler's List (1993)</th>\n",
       "      <td>1</td>\n",
       "      <td>5</td>\n",
       "      <td>4.188679</td>\n",
       "    </tr>\n",
       "    <tr>\n",
       "      <th>Secret Garden, The (1993)</th>\n",
       "      <td>1</td>\n",
       "      <td>4</td>\n",
       "      <td>4.188679</td>\n",
       "    </tr>\n",
       "    <tr>\n",
       "      <th>Aladdin (1992)</th>\n",
       "      <td>1</td>\n",
       "      <td>4</td>\n",
       "      <td>4.188679</td>\n",
       "    </tr>\n",
       "    <tr>\n",
       "      <th>Snow White and the Seven Dwarfs (1937)</th>\n",
       "      <td>1</td>\n",
       "      <td>4</td>\n",
       "      <td>4.188679</td>\n",
       "    </tr>\n",
       "    <tr>\n",
       "      <th>Beauty and the Beast (1991)</th>\n",
       "      <td>1</td>\n",
       "      <td>5</td>\n",
       "      <td>4.188679</td>\n",
       "    </tr>\n",
       "    <tr>\n",
       "      <th>Fargo (1996)</th>\n",
       "      <td>1</td>\n",
       "      <td>4</td>\n",
       "      <td>4.188679</td>\n",
       "    </tr>\n",
       "  </tbody>\n",
       "</table>\n",
       "</div>"
      ],
      "text/plain": [
       "                                           user_id  rating  avg_rating\n",
       "title                                                                 \n",
       "Toy Story (1995)                                 1       5    4.188679\n",
       "Pocahontas (1995)                                1       5    4.188679\n",
       "Apollo 13 (1995)                                 1       5    4.188679\n",
       "Star Wars: Episode IV - A New Hope (1977)        1       4    4.188679\n",
       "Schindler's List (1993)                          1       5    4.188679\n",
       "Secret Garden, The (1993)                        1       4    4.188679\n",
       "Aladdin (1992)                                   1       4    4.188679\n",
       "Snow White and the Seven Dwarfs (1937)           1       4    4.188679\n",
       "Beauty and the Beast (1991)                      1       5    4.188679\n",
       "Fargo (1996)                                     1       4    4.188679"
      ]
     },
     "execution_count": 10,
     "metadata": {},
     "output_type": "execute_result"
    }
   ],
   "source": [
    "merged_ratings = MovieLensHelper.mergeDataSets(ratings_filtered, avg_user_rating, 'title')\n",
    "merged_ratings[:10]"
   ]
  },
  {
   "cell_type": "markdown",
   "metadata": {},
   "source": [
    "# The Heirarchical Index"
   ]
  },
  {
   "cell_type": "markdown",
   "metadata": {},
   "source": [
    "With the help of the heirarchical index movies can be selected by title to get a table with columns [user_id, rating] for that movie. "
   ]
  },
  {
   "cell_type": "code",
   "execution_count": 11,
   "metadata": {
    "collapsed": false
   },
   "outputs": [
    {
     "data": {
      "text/html": [
       "<div>\n",
       "<table border=\"1\" class=\"dataframe\">\n",
       "  <thead>\n",
       "    <tr style=\"text-align: right;\">\n",
       "      <th></th>\n",
       "      <th>rating</th>\n",
       "      <th>avg_rating</th>\n",
       "    </tr>\n",
       "    <tr>\n",
       "      <th>user_id</th>\n",
       "      <th></th>\n",
       "      <th></th>\n",
       "    </tr>\n",
       "  </thead>\n",
       "  <tbody>\n",
       "    <tr>\n",
       "      <th>1</th>\n",
       "      <td>4</td>\n",
       "      <td>4.188679</td>\n",
       "    </tr>\n",
       "    <tr>\n",
       "      <th>8</th>\n",
       "      <td>5</td>\n",
       "      <td>3.884892</td>\n",
       "    </tr>\n",
       "    <tr>\n",
       "      <th>9</th>\n",
       "      <td>4</td>\n",
       "      <td>3.735849</td>\n",
       "    </tr>\n",
       "    <tr>\n",
       "      <th>23</th>\n",
       "      <td>4</td>\n",
       "      <td>3.315789</td>\n",
       "    </tr>\n",
       "    <tr>\n",
       "      <th>28</th>\n",
       "      <td>4</td>\n",
       "      <td>3.757009</td>\n",
       "    </tr>\n",
       "    <tr>\n",
       "      <th>36</th>\n",
       "      <td>5</td>\n",
       "      <td>4.199430</td>\n",
       "    </tr>\n",
       "    <tr>\n",
       "      <th>48</th>\n",
       "      <td>4</td>\n",
       "      <td>3.068562</td>\n",
       "    </tr>\n",
       "    <tr>\n",
       "      <th>56</th>\n",
       "      <td>5</td>\n",
       "      <td>3.970149</td>\n",
       "    </tr>\n",
       "    <tr>\n",
       "      <th>65</th>\n",
       "      <td>3</td>\n",
       "      <td>4.347107</td>\n",
       "    </tr>\n",
       "    <tr>\n",
       "      <th>76</th>\n",
       "      <td>5</td>\n",
       "      <td>4.172414</td>\n",
       "    </tr>\n",
       "  </tbody>\n",
       "</table>\n",
       "</div>"
      ],
      "text/plain": [
       "         rating  avg_rating\n",
       "user_id                    \n",
       "1             4    4.188679\n",
       "8             5    3.884892\n",
       "9             4    3.735849\n",
       "23            4    3.315789\n",
       "28            4    3.757009\n",
       "36            5    4.199430\n",
       "48            4    3.068562\n",
       "56            5    3.970149\n",
       "65            3    4.347107\n",
       "76            5    4.172414"
      ]
     },
     "execution_count": 11,
     "metadata": {},
     "output_type": "execute_result"
    }
   ],
   "source": [
    "rs = MovieLensHelper.setIndex(merged_ratings, ['title','user_id'])\n",
    "rs.ix['Fargo (1996)'][:10]"
   ]
  },
  {
   "cell_type": "markdown",
   "metadata": {},
   "source": [
    "# Pearson Correlation Coefficient\n",
    "\n",
    "Unlike the Euclidean Distance similarity score (which is scaled from 0 to 1), this metric measures how highly correlated are two variables and is measured from -1 to +1. Similar to the modified Euclidean Distance, a Pearson Correlation Coefficient of 1 indicates that the data objects are perfectly correlated but in this case, a score of -1 means that the data objects are not correlated. In other words, the Pearson Correlation score quantifies how well two data objects fit a line. \n",
    "\n",
    "\n",
    "\n"
   ]
  },
  {
   "cell_type": "markdown",
   "metadata": {},
   "source": [
    "Requirements for Pearson's correlation coefficient\n",
    "\n",
    "Scale of measurement should be interval or ratio\n",
    "Variables should be approximately normally distributed\n",
    "The association should be linear\n",
    "There should be no outliers in the data\n",
    "\n"
   ]
  },
  {
   "cell_type": "markdown",
   "metadata": {},
   "source": [
    "![from IPython.core.display import Image, display\n",
    "displayImage](https://dl.dropboxusercontent.com/u/58490833/Capture.jpg)\n"
   ]
  },
  {
   "cell_type": "markdown",
   "metadata": {},
   "source": [
    "# Adjusted Cosine Similarity"
   ]
  },
  {
   "cell_type": "markdown",
   "metadata": {},
   "source": [
    "One fundamental difference between the similarity computation in user-based CF and item-based CF is that in case of user-based CF the similarity is computed along the rows of the matrix but in case of the item-based CF the similarity is computed along the columns i.e., each pair in the co-rated set corresponds to a different user. Computing similarity using basic cosine measure in item-based case has one important drawback-the difference in rating scale between different users are not taken into account. The adjusted cosine similarity offsets this drawback by subtracting the corresponding user average from each co-rated pair. Formally, the similarity between items i and j using this scheme is given by \n",
    "\n",
    "![from IPython.core.display import Image, display\n",
    "displayImage](https://dl.dropboxusercontent.com/u/58490833/Capture2.jpg)\n",
    "\n"
   ]
  },
  {
   "cell_type": "code",
   "execution_count": 12,
   "metadata": {
    "collapsed": false
   },
   "outputs": [],
   "source": [
    "class SimilarityFinder :\n",
    "    \n",
    "    def __init__(self):\n",
    "        pass\n",
    "    \n",
    "    @staticmethod\n",
    "    def join(rs, movie1_title, movie2_title):\n",
    "        movie1 = rs.ix[movie1_title].reset_index()\n",
    "        movie2 = rs.ix[movie2_title].reset_index()\n",
    "        \n",
    "        mm = pd.merge(movie1, movie2, on='user_id').drop('user_id', axis=1)\n",
    "        \n",
    "        return mm\n",
    "    \n",
    "    @staticmethod\n",
    "    def findPearsonSimilarityValue(rs, movie1_title, movie2_title):\n",
    "        data = SimilarityFinder.join(rs, movie1_title, movie2_title)\n",
    "        \n",
    "        data['rating_x'] = data['rating_x'].astype('float32')\n",
    "        data['rating_y'] = data['rating_y'].astype('float32')\n",
    "        \n",
    "        pcorr = data.corr(method='pearson')\n",
    "        \n",
    "        return pcorr.ix['rating_x']['rating_y']\n",
    "    \n",
    "    @staticmethod\n",
    "    def findAdjustedCosineSimilarityValue(rs, movie1_title, movie2_title, verbose=False):\n",
    "        data = SimilarityFinder.join(rs, movie1_title, movie2_title)\n",
    "        \n",
    "        diff_xx = data['rating_x'] - data['avg_rating_x']\n",
    "        diff_yy = data['rating_y'] - data['avg_rating_y']\n",
    "        \n",
    "        num  = (diff_xx).dot((diff_yy))\n",
    "        den1 = (diff_xx).dot((diff_xx))\n",
    "        den2 = (diff_yy).dot((diff_yy))\n",
    "\n",
    "        sim = num / np.sqrt(den1*den2)\n",
    "        if sim > 1.0: sim = 1.0 \n",
    "        return sim\n",
    "    \n",
    "    @staticmethod\n",
    "    def findBestMatches(rs, movie_title, movie_titles, ntop=100, similarity_function_name='pearson'):\n",
    "        score = []\n",
    "        \n",
    "        for movie_title2 in movie_titles:\n",
    "            if movie_title == movie_title2: \n",
    "                continue\n",
    "            if similarity_function_name == 'pearson':\n",
    "                corr = SimilarityFinder.findPearsonSimilarityValue(rs, movie_title, movie_title2)\n",
    "            if similarity_function_name == 'adjustedcosine':\n",
    "                corr = SimilarityFinder.findAdjustedCosineSimilarityValue(rs, movie_title, movie_title2)\n",
    "            if pd.isnull(corr): \n",
    "                continue\n",
    "            \n",
    "            score += [(corr, movie_title2)]\n",
    "            \n",
    "        score.sort()\n",
    "        score.reverse()\n",
    "        \n",
    "        return score[0:ntop]"
   ]
  },
  {
   "cell_type": "markdown",
   "metadata": {},
   "source": [
    "<br />Find a similarity value for the movies 'Fargo (1996)' and 'Saving Private Ryan (1998)' using Pearson method."
   ]
  },
  {
   "cell_type": "code",
   "execution_count": 13,
   "metadata": {
    "collapsed": false,
    "scrolled": true
   },
   "outputs": [
    {
     "data": {
      "text/plain": [
       "0.095240647626515379"
      ]
     },
     "execution_count": 13,
     "metadata": {},
     "output_type": "execute_result"
    }
   ],
   "source": [
    "value = SimilarityFinder.findPearsonSimilarityValue(rs, 'Fargo (1996)', 'Saving Private Ryan (1998)')\n",
    "value"
   ]
  },
  {
   "cell_type": "markdown",
   "metadata": {},
   "source": [
    "Find a similarity value for the movies 'Fargo (1996)' and 'Saving Private Ryan (1998)' using Adjusted Cosine method."
   ]
  },
  {
   "cell_type": "code",
   "execution_count": 14,
   "metadata": {
    "collapsed": false
   },
   "outputs": [
    {
     "data": {
      "text/plain": [
       "0.38085497648191285"
      ]
     },
     "execution_count": 14,
     "metadata": {},
     "output_type": "execute_result"
    }
   ],
   "source": [
    "value = SimilarityFinder.findAdjustedCosineSimilarityValue(rs, 'Fargo (1996)', 'Saving Private Ryan (1998)')\n",
    "value"
   ]
  },
  {
   "cell_type": "markdown",
   "metadata": {},
   "source": [
    "Find the most recommended 10 movies for the movie 'Fargo (1996)' using Pearson method."
   ]
  },
  {
   "cell_type": "code",
   "execution_count": 15,
   "metadata": {
    "collapsed": false
   },
   "outputs": [
    {
     "name": "stdout",
     "output_type": "stream",
     "text": [
      "Wall time: 1min 18s\n"
     ]
    }
   ],
   "source": [
    "time score = SimilarityFinder.findBestMatches(rs, 'Fargo (1996)', movie_titles, 10, 'pearson')"
   ]
  },
  {
   "cell_type": "code",
   "execution_count": 16,
   "metadata": {
    "collapsed": false
   },
   "outputs": [
    {
     "data": {
      "text/plain": [
       "[(0.47018213897196393, 'Nights of Cabiria (Le Notti di Cabiria) (1957)'),\n",
       " (0.46367319289985065, 'Melvin and Howard (1980)'),\n",
       " (0.44939942927904264, \"All the King's Men (1949)\"),\n",
       " (0.42237735941287047,\n",
       "  'Paradise Lost: The Child Murders at Robin Hood Hills (1996)'),\n",
       " (0.421200275072797, 'Killing, The (1956)'),\n",
       " (0.408153879371079, 'Waking the Dead (1999)'),\n",
       " (0.39059679471634945, 'Trouble with Harry, The (1955)'),\n",
       " (0.3894528439543139, 'Paths of Glory (1957)'),\n",
       " (0.38863877131901914, 'Big One, The (1997)'),\n",
       " (0.38669117024690125,\n",
       "  'Umbrellas of Cherbourg, The (Parapluies de Cherbourg, Les) (1964)')]"
      ]
     },
     "execution_count": 16,
     "metadata": {},
     "output_type": "execute_result"
    }
   ],
   "source": [
    "score"
   ]
  },
  {
   "cell_type": "markdown",
   "metadata": {},
   "source": [
    "Find the most recommended 10 movies for the movie 'Fargo (1996)' using Adjusted Cosine method."
   ]
  },
  {
   "cell_type": "code",
   "execution_count": 17,
   "metadata": {
    "collapsed": false
   },
   "outputs": [
    {
     "name": "stdout",
     "output_type": "stream",
     "text": [
      "Wall time: 1min 14s\n"
     ]
    }
   ],
   "source": [
    "time score = SimilarityFinder.findBestMatches(rs, 'Fargo (1996)', movie_titles, 10, 'adjustedcosine')"
   ]
  },
  {
   "cell_type": "code",
   "execution_count": 18,
   "metadata": {
    "collapsed": false,
    "scrolled": true
   },
   "outputs": [
    {
     "data": {
      "text/plain": [
       "[(0.71294368771014205, 'Paths of Glory (1957)'),\n",
       " (0.63484085532685475, 'Killing, The (1956)'),\n",
       " (0.63318022401381446,\n",
       "  'Paradise Lost: The Child Murders at Robin Hood Hills (1996)'),\n",
       " (0.62924653905609318, 'Blood Simple (1984)'),\n",
       " (0.62655884251878458, 'Creature Comforts (1990)'),\n",
       " (0.60484119655782287,\n",
       "  'Dr. Strangelove or: How I Learned to Stop Worrying and Love the Bomb (1963)'),\n",
       " (0.59152707197108478, 'Stop Making Sense (1984)'),\n",
       " (0.58788177068162284, 'Close Shave, A (1995)'),\n",
       " (0.58563761487437915,\n",
       "  'Seven Samurai (The Magnificent Seven) (Shichinin no samurai) (1954)'),\n",
       " (0.58013425054500944, 'When We Were Kings (1996)')]"
      ]
     },
     "execution_count": 18,
     "metadata": {},
     "output_type": "execute_result"
    }
   ],
   "source": [
    "score"
   ]
  },
  {
   "cell_type": "markdown",
   "metadata": {
    "collapsed": false
   },
   "source": [
    "Note: 1M MovieLens Dataset is used in this project in order to avoid any kind of performance related issues."
   ]
  }
 ],
 "metadata": {
  "kernelspec": {
   "display_name": "Python 3",
   "language": "python",
   "name": "python3"
  },
  "language_info": {
   "codemirror_mode": {
    "name": "ipython",
    "version": 3
   },
   "file_extension": ".py",
   "mimetype": "text/x-python",
   "name": "python",
   "nbconvert_exporter": "python",
   "pygments_lexer": "ipython3",
   "version": "3.5.1"
  }
 },
 "nbformat": 4,
 "nbformat_minor": 0
}
