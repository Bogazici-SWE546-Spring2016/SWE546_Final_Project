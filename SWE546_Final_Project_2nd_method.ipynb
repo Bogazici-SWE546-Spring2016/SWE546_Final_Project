{
 "cells": [
  {
   "cell_type": "markdown",
   "metadata": {
    "collapsed": false
   },
   "source": [
    "SWE546 Final Project - Method 2\n",
    "\n",
    "In this method, SVD is used.\n",
    "\n",
    "Movielens 1M data set is used. The data set is divided into 2 part, one to be used for training, the other to be used for testing. \n",
    "\n",
    "Before performing SVD, a pre-processing is needed since SVD does not perform good with sparce matrices.\n",
    "    1- rating averages per movies are obtained from the training data\n",
    "    2- these ratings are subtracted from the rating matrix, including the zero values. \n",
    "    3- user offsets are found to see the per user bias\n",
    "\n",
    "\n",
    "After SVD is performed, the rating matrix is reconstructed with lower rank. After that, in order to find the predicted ratings, rating average per movies and user offsets are added onto the reconstructed matrix.   \n",
    "\n",
    "After the predicted ratings are obtained, the test data is used to calculate accuracy, precision, recall, TPR and FPR. These metrics are calculated by selecting a threshold of 3 as rating and the expectation was if the rating in the test data is >= than the threshold, then the prediction must also be >= than the threshold and the other way around. Any prediction that does not follow this metric is counted as either false positive or false negative. \n",
    "\n",
    "The performance metrics can be found as printed at end of this notebook."
   ]
  },
  {
   "cell_type": "code",
   "execution_count": 1,
   "metadata": {
    "collapsed": true
   },
   "outputs": [],
   "source": [
    "import numpy as np\n",
    "import pandas as pd\n",
    "import time\n",
    "\n",
    "\n",
    "rnames = ['user_id', 'movie_id', 'rating', 'timestamp'] \n",
    "mnames = ['MovieID', 'Title', 'Genres']\n",
    "train = pd.read_table('../data/ml-1m/ra.train', sep='::',engine='python', header=None, names=rnames)\n",
    "test = pd.read_table('../data/ml-1m/ra.test', sep='::',engine='python', header=None, names=rnames)"
   ]
  },
  {
   "cell_type": "code",
   "execution_count": 2,
   "metadata": {
    "collapsed": false
   },
   "outputs": [
    {
     "data": {
      "text/plain": [
       "matrix([[        1,       595,         5, 978824268],\n",
       "        [        1,       938,         4, 978301752],\n",
       "        [        1,      2398,         4, 978302281],\n",
       "        ..., \n",
       "        [     6040,       562,         5, 956704746],\n",
       "        [     6040,      1096,         4, 956715648],\n",
       "        [     6040,      1097,         4, 956715569]])"
      ]
     },
     "execution_count": 2,
     "metadata": {},
     "output_type": "execute_result"
    }
   ],
   "source": [
    "Ys = np.mat(train)\n",
    "Ys"
   ]
  },
  {
   "cell_type": "code",
   "execution_count": 3,
   "metadata": {
    "collapsed": false
   },
   "outputs": [
    {
     "data": {
      "text/plain": [
       "matrix([[        1,      1193,         5, 978300760],\n",
       "        [        1,       661,         3, 978302109],\n",
       "        [        1,       914,         3, 978301968],\n",
       "        ..., \n",
       "        [     6040,      3017,         1, 956716519],\n",
       "        [     6040,      2070,         4, 956715676],\n",
       "        [     6040,      1419,         3, 956704056]])"
      ]
     },
     "execution_count": 3,
     "metadata": {},
     "output_type": "execute_result"
    }
   ],
   "source": [
    "Yt = np.mat(test)\n",
    "Yt"
   ]
  },
  {
   "cell_type": "code",
   "execution_count": 31,
   "metadata": {
    "collapsed": false
   },
   "outputs": [
    {
     "data": {
      "text/plain": [
       "matrix([[ 5.,  0.,  0., ...,  0.,  0.,  0.],\n",
       "        [ 0.,  0.,  0., ...,  0.,  0.,  0.],\n",
       "        [ 0.,  0.,  0., ...,  0.,  0.,  0.],\n",
       "        ..., \n",
       "        [ 0.,  0.,  0., ...,  0.,  0.,  0.],\n",
       "        [ 0.,  0.,  0., ...,  0.,  0.,  0.],\n",
       "        [ 0.,  0.,  0., ...,  0.,  0.,  0.]])"
      ]
     },
     "execution_count": 31,
     "metadata": {},
     "output_type": "execute_result"
    }
   ],
   "source": [
    "Nr = 6040 # Number of users\n",
    "Nc = 3952 # Number of movies\n",
    "\n",
    "#Obtain Y matrix\n",
    "Y = np.mat(np.zeros((Nr, Nc)))\n",
    "Ysize = Y.shape[0]\n",
    "\n",
    "MovieSum = np.mat(np.zeros((1,Nc)))\n",
    "MovieCnt = np.mat(np.zeros((1,Nc)))\n",
    "\n",
    "UserSum = np.mat(np.zeros((1,Nr)))\n",
    "UserCnt = np.mat(np.zeros((1,Nr)))\n",
    "\n",
    "for i in range(Ysize):\n",
    "    user = Ys[i,0]\n",
    "    movie = Ys[i,1]\n",
    "    rating = Ys[i,2]\n",
    "    \n",
    "    MovieSum[0, movie-1] += rating\n",
    "    MovieCnt[0, movie-1] += 1\n",
    "    UserSum[0, user-1] += rating\n",
    "    UserCnt[0, user-1] += 1\n",
    "    Y[user-1, movie-1] = Ys[i, 2]\n",
    "Y"
   ]
  },
  {
   "cell_type": "code",
   "execution_count": 32,
   "metadata": {
    "collapsed": false
   },
   "outputs": [
    {
     "data": {
      "text/plain": [
       "21690.0"
      ]
     },
     "execution_count": 32,
     "metadata": {},
     "output_type": "execute_result"
    }
   ],
   "source": [
    "np.sum(Y)"
   ]
  },
  {
   "cell_type": "code",
   "execution_count": 33,
   "metadata": {
    "collapsed": false
   },
   "outputs": [],
   "source": [
    "#get rating averages per movie\n",
    "for i in range(Nc):\n",
    "    if(MovieSum[0,i] != 0):\n",
    "        MovieSum[0, i] = MovieSum[0,i] / MovieCnt[0,i]\n",
    "\n",
    "#get rating averages per user\n",
    "for i in range(Nr):\n",
    "    if(UserSum[0,i] != 0):\n",
    "        UserSum[0, i] = UserSum[0,i] / UserCnt[0,i]\n"
   ]
  },
  {
   "cell_type": "code",
   "execution_count": 34,
   "metadata": {
    "collapsed": false
   },
   "outputs": [
    {
     "data": {
      "text/plain": [
       "matrix([[ 4.5,  2.8,  2. , ...,  0. ,  0. ,  4.5]])"
      ]
     },
     "execution_count": 34,
     "metadata": {},
     "output_type": "execute_result"
    }
   ],
   "source": [
    "MovieSum"
   ]
  },
  {
   "cell_type": "code",
   "execution_count": 35,
   "metadata": {
    "collapsed": false
   },
   "outputs": [
    {
     "data": {
      "text/plain": [
       "matrix([[ 4.20930233,  3.70588235,  4.02439024, ...,  0.        ,\n",
       "          0.        ,  0.        ]])"
      ]
     },
     "execution_count": 35,
     "metadata": {},
     "output_type": "execute_result"
    }
   ],
   "source": [
    "UserSum"
   ]
  },
  {
   "cell_type": "code",
   "execution_count": 95,
   "metadata": {
    "collapsed": false
   },
   "outputs": [],
   "source": [
    "#subtract the movie means from all ratings - including the 0 ones\n",
    "Ysub = np.mat(np.zeros((Nr, Nc)))\n",
    "\n",
    "for i in range(Nr):\n",
    "    for j in range(Nc):\n",
    "        Ysub[i, j] = Y[i, j] - MovieSum[0, j]\n"
   ]
  },
  {
   "cell_type": "code",
   "execution_count": 96,
   "metadata": {
    "collapsed": false
   },
   "outputs": [
    {
     "data": {
      "text/plain": [
       "matrix([[ 0.5, -2.8, -2. , ...,  0. ,  0. , -4.5],\n",
       "        [-4.5, -2.8, -2. , ...,  0. ,  0. , -4.5],\n",
       "        [-4.5, -2.8, -2. , ...,  0. ,  0. , -4.5],\n",
       "        ..., \n",
       "        [-4.5, -2.8, -2. , ...,  0. ,  0. , -4.5],\n",
       "        [-4.5, -2.8, -2. , ...,  0. ,  0. , -4.5],\n",
       "        [-4.5, -2.8, -2. , ...,  0. ,  0. , -4.5]])"
      ]
     },
     "execution_count": 96,
     "metadata": {},
     "output_type": "execute_result"
    }
   ],
   "source": [
    "Ysub"
   ]
  },
  {
   "cell_type": "code",
   "execution_count": 97,
   "metadata": {
    "collapsed": false
   },
   "outputs": [],
   "source": [
    "#find out the offset per user\n",
    "AverageUserOff = np.mat(np.zeros((1, Nr)))\n",
    "\n",
    "UserCnt = np.mat(np.zeros((1,Nr)))\n",
    "\n",
    "#find out the user offsets per rating \n",
    "UserOff = np.mat(np.zeros((Nr, Nc)))\n",
    "\n",
    "for i in range(Nr):\n",
    "    for j in range(Nc):\n",
    "        if(Y[i,j] != 0):\n",
    "            UserOff[i, j] = Y[i,j] - MovieSum[0, j]\n",
    "            AverageUserOff[0, i] += UserOff[i,j]\n",
    "            UserCnt[0,i] += 1\n"
   ]
  },
  {
   "cell_type": "code",
   "execution_count": 98,
   "metadata": {
    "collapsed": false
   },
   "outputs": [
    {
     "data": {
      "text/plain": [
       "matrix([[ 0.20711   ,  0.05948643,  0.15327994, ...,  0.        ,\n",
       "          0.        ,  0.        ]])"
      ]
     },
     "execution_count": 98,
     "metadata": {},
     "output_type": "execute_result"
    }
   ],
   "source": [
    "for i in range(Nr):\n",
    "    if(UserCnt[0, i] != 0):\n",
    "        AverageUserOff[0, i] = AverageUserOff[0, i] / UserCnt[0,i]\n",
    "\n",
    "AverageUserOff"
   ]
  },
  {
   "cell_type": "code",
   "execution_count": 99,
   "metadata": {
    "collapsed": false
   },
   "outputs": [
    {
     "data": {
      "text/plain": [
       "matrix([[ 0.5, -2.8, -2. , ...,  0. ,  0. , -4.5],\n",
       "        [-4.5, -2.8, -2. , ...,  0. ,  0. , -4.5],\n",
       "        [-4.5, -2.8, -2. , ...,  0. ,  0. , -4.5],\n",
       "        ..., \n",
       "        [-4.5, -2.8, -2. , ...,  0. ,  0. , -4.5],\n",
       "        [-4.5, -2.8, -2. , ...,  0. ,  0. , -4.5],\n",
       "        [-4.5, -2.8, -2. , ...,  0. ,  0. , -4.5]])"
      ]
     },
     "execution_count": 99,
     "metadata": {},
     "output_type": "execute_result"
    }
   ],
   "source": [
    "Ysub"
   ]
  },
  {
   "cell_type": "code",
   "execution_count": 100,
   "metadata": {
    "collapsed": false
   },
   "outputs": [
    {
     "name": "stdout",
     "output_type": "stream",
     "text": [
      "U\n",
      "[[  1.24351900e-02   5.21865511e-02   4.19191584e-02 ...,  -1.69416707e-17\n",
      "   -1.27943418e-18  -1.51498132e-17]\n",
      " [  1.18748143e-02   1.14401164e-01  -2.74249016e-02 ...,   8.90373740e-19\n",
      "   -1.96684417e-17  -1.82428395e-17]\n",
      " [  1.24830280e-02   7.87131673e-02   1.28619246e-02 ...,  -1.55182713e-18\n",
      "    1.64891878e-19   2.86965674e-18]\n",
      " ..., \n",
      " [  1.28746417e-02  -7.12430494e-04  -4.43454684e-05 ...,   5.00000000e-01\n",
      "    6.50899661e-18   5.31421346e-18]\n",
      " [  1.28746417e-02  -7.12430494e-04  -4.43454684e-05 ...,  -1.49302421e-19\n",
      "    5.00000000e-01  -5.00000000e-01]\n",
      " [  1.28746417e-02  -7.12430494e-04  -4.43454684e-05 ...,  -1.49302421e-19\n",
      "   -5.00000000e-01   5.00000000e-01]]\n",
      "S\n",
      "[  1.13396660e+04   1.05684176e+02   7.19282148e+01 ...,   1.02145720e-12\n",
      "   5.66493605e-13   3.56294424e-14]\n",
      "V\n",
      "[[-0.0307778  -0.01917634 -0.01370276 ...,  0.          0.         -0.03083178]\n",
      " [ 0.07182302  0.01830801 -0.01047636 ...,  0.          0.         -0.00142611]\n",
      " [ 0.06214707  0.04497073  0.01128396 ...,  0.          0.         -0.03779864]\n",
      " ..., \n",
      " [ 0.          0.0193326   0.01669294 ...,  0.          0.         -0.00975419]\n",
      " [ 0.         -0.00177967 -0.00015409 ...,  0.          0.          0.01819461]\n",
      " [ 0.          0.01764878  0.01052864 ...,  0.          0.          0.01587128]]\n"
     ]
    }
   ],
   "source": [
    "#perform SVD on pre-processed matrix (Ysub) \n",
    "import scipy as sc\n",
    "import scipy.linalg as la\n",
    "U,S,Vt = la.svd(Ysub)\n",
    "\n",
    "print('U')\n",
    "print(U)\n",
    "\n",
    "print('S')\n",
    "print(S)\n",
    "\n",
    "print('V')\n",
    "print(Vt)"
   ]
  },
  {
   "cell_type": "code",
   "execution_count": 101,
   "metadata": {
    "collapsed": false
   },
   "outputs": [
    {
     "name": "stdout",
     "output_type": "stream",
     "text": [
      "[  1.13396660e+04   1.05684176e+02   7.19282148e+01   6.60142566e+01\n",
      "   6.12285898e+01   5.97271029e+01   5.70542710e+01   5.40480069e+01\n",
      "   5.06732250e+01   5.00552848e+01   4.81471485e+01   4.66632725e+01\n",
      "   4.43178623e+01   4.25574860e+01   4.18856887e+01   4.15324785e+01\n",
      "   4.08706529e+01   3.98891732e+01   3.81567492e+01   3.71220410e+01\n",
      "   3.60677773e+01   3.43327554e+01   3.41174430e+01   3.34734460e+01\n",
      "   3.21804733e+01   3.16432107e+01   3.04939640e+01   2.95961364e+01\n",
      "   2.89582965e+01   2.78722091e+01   2.66564113e+01   2.53771090e+01\n",
      "   2.49291202e+01   2.40365711e+01   2.37575101e+01   2.25726943e+01\n",
      "   2.16215575e+01   1.77946473e+01   1.70448054e+01   1.64351235e+01\n",
      "   1.49739928e+01   1.42029570e+01   1.34346380e+01   1.31609921e+01\n",
      "   1.27690670e+01   1.16539899e+01   1.08741434e+01   9.41348119e+00\n",
      "   7.13502498e-11   5.92206768e-11]\n"
     ]
    }
   ],
   "source": [
    "print(S[:50])"
   ]
  },
  {
   "cell_type": "code",
   "execution_count": 102,
   "metadata": {
    "collapsed": false
   },
   "outputs": [
    {
     "name": "stdout",
     "output_type": "stream",
     "text": [
      "Sr\n",
      "[ 11339.66596317    105.68417582      0.         ...,      0.              0.\n",
      "      0.        ]\n",
      "Sig\n",
      "[[ 11339.66596317      0.              0.         ...,      0.              0.\n",
      "       0.        ]\n",
      " [     0.            105.68417582      0.         ...,      0.              0.\n",
      "       0.        ]\n",
      " [     0.              0.              0.         ...,      0.              0.\n",
      "       0.        ]\n",
      " ..., \n",
      " [     0.              0.              0.         ...,      0.              0.\n",
      "       0.        ]\n",
      " [     0.              0.              0.         ...,      0.              0.\n",
      "       0.        ]\n",
      " [     0.              0.              0.         ...,      0.              0.\n",
      "       0.        ]]\n"
     ]
    }
   ],
   "source": [
    "#select the rank from the meaning values of S matrix and obtain the diagonal matrix\n",
    "rnk = 2\n",
    "\n",
    "Sr = np.zeros_like(S)\n",
    "\n",
    "Sr[0:rnk] = S[0:rnk]\n",
    "Sig = la.diagsvd(Sr, Nr, Nc)\n",
    "\n",
    "print('Sr')\n",
    "print(Sr)\n",
    "\n",
    "print('Sig')\n",
    "print(Sig)"
   ]
  },
  {
   "cell_type": "code",
   "execution_count": 103,
   "metadata": {
    "collapsed": false
   },
   "outputs": [
    {
     "data": {
      "text/plain": [
       "array([[-3.94388057, -2.60309927, -1.99001917, ...,  0.        ,\n",
       "         0.        , -4.35548308],\n",
       "       [-3.27606028, -2.3608667 , -1.97182842, ...,  0.        ,\n",
       "         0.        , -4.16894015],\n",
       "       [-3.75922471, -2.56217631, -2.02682234, ...,  0.        ,\n",
       "         0.        , -4.37620632],\n",
       "       ..., \n",
       "       [-4.49878628, -2.80101197, -1.99973429, ...,  0.        ,\n",
       "         0.        , -4.50115229],\n",
       "       [-4.49878628, -2.80101197, -1.99973429, ...,  0.        ,\n",
       "         0.        , -4.50115229],\n",
       "       [-4.49878628, -2.80101197, -1.99973429, ...,  0.        ,\n",
       "         0.        , -4.50115229]])"
      ]
     },
     "execution_count": 103,
     "metadata": {},
     "output_type": "execute_result"
    }
   ],
   "source": [
    "#reconstruct the ratings matrix with lower rank\n",
    "Yr = np.dot(np.dot(U, Sig), Vt)\n",
    "Yr"
   ]
  },
  {
   "cell_type": "code",
   "execution_count": 104,
   "metadata": {
    "collapsed": false
   },
   "outputs": [],
   "source": [
    "#Obtain the prediction matrix using the reconstructed matrix, average ratings per movie and user offsets\n",
    "Yp = np.mat(np.zeros((Nr, Nc)))\n",
    "\n",
    "for i in range(Nr):\n",
    "    for j in range(Nc):\n",
    "        Yp[i,j] = Yr[i,j] +  MovieSum[0, j] + AverageUserOff[0, i]"
   ]
  },
  {
   "cell_type": "code",
   "execution_count": 106,
   "metadata": {
    "collapsed": false,
    "scrolled": true
   },
   "outputs": [
    {
     "name": "stdout",
     "output_type": "stream",
     "text": [
      "[[  7.63229430e-01   4.04010731e-01   2.17090825e-01 ...,   2.07109996e-01\n",
      "    2.07109996e-01   3.51626911e-01]\n",
      " [  1.28342615e+00   4.98619734e-01   8.76580153e-02 ...,   5.94864307e-02\n",
      "    5.94864307e-02   3.90546282e-01]\n",
      " [  8.94055238e-01   3.91103632e-01   1.26457609e-01 ...,   1.53279944e-01\n",
      "    1.53279944e-01   2.77073627e-01]\n",
      " ..., \n",
      " [  1.21371692e-03  -1.01196855e-03   2.65713666e-04 ...,   0.00000000e+00\n",
      "    0.00000000e+00  -1.15229047e-03]\n",
      " [  1.21371692e-03  -1.01196855e-03   2.65713666e-04 ...,   0.00000000e+00\n",
      "    0.00000000e+00  -1.15229047e-03]\n",
      " [  1.21371692e-03  -1.01196855e-03   2.65713666e-04 ...,   0.00000000e+00\n",
      "    0.00000000e+00  -1.15229047e-03]]\n"
     ]
    }
   ],
   "source": [
    "print(Yp)"
   ]
  },
  {
   "cell_type": "code",
   "execution_count": 107,
   "metadata": {
    "collapsed": false
   },
   "outputs": [
    {
     "name": "stdout",
     "output_type": "stream",
     "text": [
      "truePos = 25740, trueNeg = 3273, falsePos = 2271, falseNeg = 20123\n",
      "\n",
      "True Positive Rate = 0.5612367267732159, False Positive Rate = 0.4096320346320346\n",
      "\n",
      "accuracy = 56.43674136321195%, precision = 91.88919034699414%, recall = 56.12244897959183%\n",
      "\n"
     ]
    }
   ],
   "source": [
    "testSize = Yt.shape[0]\n",
    "\n",
    "np.random.shuffle(Yt)\n",
    "\n",
    "metric_threshold = 3\n",
    "prediction_threshold = 0\n",
    "\n",
    "\n",
    "TP = 0;\n",
    "FP = 0; \n",
    "TN = 0;\n",
    "FN = 0;\n",
    "\n",
    "for t in range(testSize):\n",
    "    user = Yt[t, 0] - 1\n",
    "    movie = Yt[t, 1] - 1\n",
    "    \n",
    "    rating = Yt[t, 2]\n",
    "    \n",
    "    predict = Yp[user,movie]\n",
    "    \n",
    "    if (rating >= metric_threshold and predict >= prediction_threshold):\n",
    "        TP += 1\n",
    "    elif (rating < metric_threshold and predict < prediction_threshold):\n",
    "        TN += 1\n",
    "    elif (rating > metric_threshold and predict < prediction_threshold):\n",
    "        FN += 1\n",
    "    elif (rating < metric_threshold and predict > prediction_threshold):\n",
    "        FP += 1\n",
    "\n",
    "        \n",
    "if ((TP + FN) == 0 ):\n",
    "    TPR = 0\n",
    "else:\n",
    "    TPR = float(TP / float(TP+FN))\n",
    "if ((FP + TN) == 0 ):\n",
    "    FPR = 0\n",
    "else:\n",
    "    FPR = float(FP / float(FP+TN))\n",
    "        \n",
    "print('truePos = ' + repr(TP) + ', trueNeg = ' + repr(TN) + \n",
    "      ', falsePos = ' + repr(FP) + ', falseNeg = ' + repr(FN) + '\\n')\n",
    "\n",
    "print('True Positive Rate = ' + repr(TPR) + ', False Positive Rate = ' + repr(FPR) + '\\n')\n",
    "\n",
    "accuracy = float((TP + TN) / float(TP + FP + TN + FN + 1)) * 100\n",
    "precision = float(TP / float(TP + FP + 1)) * 100\n",
    "recall = float(TP / float(TP + FN + 1)) * 100\n",
    "\n",
    "print('accuracy = ' + repr(accuracy) + '%, precision = ' + repr(precision) + \n",
    "      '%, recall = ' + repr(recall) + '%\\n')\n"
   ]
  }
 ],
 "metadata": {
  "kernelspec": {
   "display_name": "Python 2",
   "language": "python",
   "name": "python2"
  },
  "language_info": {
   "codemirror_mode": {
    "name": "ipython",
    "version": 2
   },
   "file_extension": ".py",
   "mimetype": "text/x-python",
   "name": "python",
   "nbconvert_exporter": "python",
   "pygments_lexer": "ipython2",
   "version": "2.7.11"
  }
 },
 "nbformat": 4,
 "nbformat_minor": 0
}
