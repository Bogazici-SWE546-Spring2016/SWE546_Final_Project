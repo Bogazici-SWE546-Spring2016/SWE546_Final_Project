{
 "cells": [
  {
   "cell_type": "markdown",
   "metadata": {
    "collapsed": false
   },
   "source": [
    "# Movielens Recommendation System"
   ]
  },
  {
   "cell_type": "markdown",
   "metadata": {},
   "source": [
    "by Umur Türkay and Yasemin Alpay"
   ]
  },
  {
   "cell_type": "code",
   "execution_count": 28,
   "metadata": {
    "collapsed": true
   },
   "outputs": [],
   "source": [
    "%matplotlib inline\n",
    "import matplotlib.pyplot as plt\n",
    "import numpy as np\n",
    "import scipy as sc\n",
    "import scipy.linalg as la\n",
    "import pandas as pd\n",
    "import heapq as hp\n",
    "import math\n"
   ]
  },
  {
   "cell_type": "markdown",
   "metadata": {},
   "source": [
    "We use the MovieLens data for our recommendation system. MovieLens is a recommendation system which recommends movies for its users by using collaborative filtering. It makes predictions based on your movie ratings; what we are trying to do actually."
   ]
  },
  {
   "cell_type": "markdown",
   "metadata": {},
   "source": [
    "First we read the rating data using pandas library. We use a small part of the tables to make our method work faster to see some results."
   ]
  },
  {
   "cell_type": "code",
   "execution_count": 29,
   "metadata": {
    "collapsed": false
   },
   "outputs": [],
   "source": [
    "rnames = ['user_id', 'movie_id', 'rating', 'timestamp'] \n",
    "mnames  = ['movie_id', 'title', 'genres']\n",
    "rratings = pd.read_table('data/ratings.dat', sep='::', header=None, names=rnames, engine='python')\n",
    "ratings = rratings[:500]\n",
    "mmovies  = pd.read_table(u'data/movies.dat', sep='::', header=None, names=mnames, engine = 'python')\n",
    "movies = mmovies[:500]"
   ]
  },
  {
   "cell_type": "markdown",
   "metadata": {},
   "source": [
    "Let's see what the movies data look like. In movies, movie id, movie name (title) and the genre(s) of the movie are listed."
   ]
  },
  {
   "cell_type": "code",
   "execution_count": 30,
   "metadata": {
    "collapsed": false
   },
   "outputs": [
    {
     "data": {
      "text/html": [
       "<div>\n",
       "<table border=\"1\" class=\"dataframe\">\n",
       "  <thead>\n",
       "    <tr style=\"text-align: right;\">\n",
       "      <th></th>\n",
       "      <th>movie_id</th>\n",
       "      <th>title</th>\n",
       "      <th>genres</th>\n",
       "    </tr>\n",
       "  </thead>\n",
       "  <tbody>\n",
       "    <tr>\n",
       "      <th>0</th>\n",
       "      <td>1</td>\n",
       "      <td>Toy Story (1995)</td>\n",
       "      <td>Animation|Children's|Comedy</td>\n",
       "    </tr>\n",
       "    <tr>\n",
       "      <th>1</th>\n",
       "      <td>2</td>\n",
       "      <td>Jumanji (1995)</td>\n",
       "      <td>Adventure|Children's|Fantasy</td>\n",
       "    </tr>\n",
       "    <tr>\n",
       "      <th>2</th>\n",
       "      <td>3</td>\n",
       "      <td>Grumpier Old Men (1995)</td>\n",
       "      <td>Comedy|Romance</td>\n",
       "    </tr>\n",
       "    <tr>\n",
       "      <th>3</th>\n",
       "      <td>4</td>\n",
       "      <td>Waiting to Exhale (1995)</td>\n",
       "      <td>Comedy|Drama</td>\n",
       "    </tr>\n",
       "    <tr>\n",
       "      <th>4</th>\n",
       "      <td>5</td>\n",
       "      <td>Father of the Bride Part II (1995)</td>\n",
       "      <td>Comedy</td>\n",
       "    </tr>\n",
       "    <tr>\n",
       "      <th>5</th>\n",
       "      <td>6</td>\n",
       "      <td>Heat (1995)</td>\n",
       "      <td>Action|Crime|Thriller</td>\n",
       "    </tr>\n",
       "    <tr>\n",
       "      <th>6</th>\n",
       "      <td>7</td>\n",
       "      <td>Sabrina (1995)</td>\n",
       "      <td>Comedy|Romance</td>\n",
       "    </tr>\n",
       "    <tr>\n",
       "      <th>7</th>\n",
       "      <td>8</td>\n",
       "      <td>Tom and Huck (1995)</td>\n",
       "      <td>Adventure|Children's</td>\n",
       "    </tr>\n",
       "    <tr>\n",
       "      <th>8</th>\n",
       "      <td>9</td>\n",
       "      <td>Sudden Death (1995)</td>\n",
       "      <td>Action</td>\n",
       "    </tr>\n",
       "    <tr>\n",
       "      <th>9</th>\n",
       "      <td>10</td>\n",
       "      <td>GoldenEye (1995)</td>\n",
       "      <td>Action|Adventure|Thriller</td>\n",
       "    </tr>\n",
       "  </tbody>\n",
       "</table>\n",
       "</div>"
      ],
      "text/plain": [
       "   movie_id                               title                        genres\n",
       "0         1                    Toy Story (1995)   Animation|Children's|Comedy\n",
       "1         2                      Jumanji (1995)  Adventure|Children's|Fantasy\n",
       "2         3             Grumpier Old Men (1995)                Comedy|Romance\n",
       "3         4            Waiting to Exhale (1995)                  Comedy|Drama\n",
       "4         5  Father of the Bride Part II (1995)                        Comedy\n",
       "5         6                         Heat (1995)         Action|Crime|Thriller\n",
       "6         7                      Sabrina (1995)                Comedy|Romance\n",
       "7         8                 Tom and Huck (1995)          Adventure|Children's\n",
       "8         9                 Sudden Death (1995)                        Action\n",
       "9        10                    GoldenEye (1995)     Action|Adventure|Thriller"
      ]
     },
     "execution_count": 30,
     "metadata": {},
     "output_type": "execute_result"
    }
   ],
   "source": [
    "movies [:10]"
   ]
  },
  {
   "cell_type": "markdown",
   "metadata": {},
   "source": [
    "Let's see what ratings data look like. In ratings, id of the user who rated the movie, movie id, rating and timestamp are given."
   ]
  },
  {
   "cell_type": "code",
   "execution_count": 31,
   "metadata": {
    "collapsed": false
   },
   "outputs": [
    {
     "data": {
      "text/html": [
       "<div>\n",
       "<table border=\"1\" class=\"dataframe\">\n",
       "  <thead>\n",
       "    <tr style=\"text-align: right;\">\n",
       "      <th></th>\n",
       "      <th>user_id</th>\n",
       "      <th>movie_id</th>\n",
       "      <th>rating</th>\n",
       "      <th>timestamp</th>\n",
       "    </tr>\n",
       "  </thead>\n",
       "  <tbody>\n",
       "    <tr>\n",
       "      <th>0</th>\n",
       "      <td>1</td>\n",
       "      <td>1193</td>\n",
       "      <td>5</td>\n",
       "      <td>978300760</td>\n",
       "    </tr>\n",
       "    <tr>\n",
       "      <th>1</th>\n",
       "      <td>1</td>\n",
       "      <td>661</td>\n",
       "      <td>3</td>\n",
       "      <td>978302109</td>\n",
       "    </tr>\n",
       "    <tr>\n",
       "      <th>2</th>\n",
       "      <td>1</td>\n",
       "      <td>914</td>\n",
       "      <td>3</td>\n",
       "      <td>978301968</td>\n",
       "    </tr>\n",
       "    <tr>\n",
       "      <th>3</th>\n",
       "      <td>1</td>\n",
       "      <td>3408</td>\n",
       "      <td>4</td>\n",
       "      <td>978300275</td>\n",
       "    </tr>\n",
       "    <tr>\n",
       "      <th>4</th>\n",
       "      <td>1</td>\n",
       "      <td>2355</td>\n",
       "      <td>5</td>\n",
       "      <td>978824291</td>\n",
       "    </tr>\n",
       "    <tr>\n",
       "      <th>5</th>\n",
       "      <td>1</td>\n",
       "      <td>1197</td>\n",
       "      <td>3</td>\n",
       "      <td>978302268</td>\n",
       "    </tr>\n",
       "    <tr>\n",
       "      <th>6</th>\n",
       "      <td>1</td>\n",
       "      <td>1287</td>\n",
       "      <td>5</td>\n",
       "      <td>978302039</td>\n",
       "    </tr>\n",
       "    <tr>\n",
       "      <th>7</th>\n",
       "      <td>1</td>\n",
       "      <td>2804</td>\n",
       "      <td>5</td>\n",
       "      <td>978300719</td>\n",
       "    </tr>\n",
       "    <tr>\n",
       "      <th>8</th>\n",
       "      <td>1</td>\n",
       "      <td>594</td>\n",
       "      <td>4</td>\n",
       "      <td>978302268</td>\n",
       "    </tr>\n",
       "    <tr>\n",
       "      <th>9</th>\n",
       "      <td>1</td>\n",
       "      <td>919</td>\n",
       "      <td>4</td>\n",
       "      <td>978301368</td>\n",
       "    </tr>\n",
       "  </tbody>\n",
       "</table>\n",
       "</div>"
      ],
      "text/plain": [
       "   user_id  movie_id  rating  timestamp\n",
       "0        1      1193       5  978300760\n",
       "1        1       661       3  978302109\n",
       "2        1       914       3  978301968\n",
       "3        1      3408       4  978300275\n",
       "4        1      2355       5  978824291\n",
       "5        1      1197       3  978302268\n",
       "6        1      1287       5  978302039\n",
       "7        1      2804       5  978300719\n",
       "8        1       594       4  978302268\n",
       "9        1       919       4  978301368"
      ]
     },
     "execution_count": 31,
     "metadata": {},
     "output_type": "execute_result"
    }
   ],
   "source": [
    "ratings[:10]"
   ]
  },
  {
   "cell_type": "markdown",
   "metadata": {},
   "source": [
    "Let's now merge movies and ratings data to see in a better way."
   ]
  },
  {
   "cell_type": "code",
   "execution_count": 32,
   "metadata": {
    "collapsed": false
   },
   "outputs": [
    {
     "data": {
      "text/html": [
       "<div>\n",
       "<table border=\"1\" class=\"dataframe\">\n",
       "  <thead>\n",
       "    <tr style=\"text-align: right;\">\n",
       "      <th></th>\n",
       "      <th>movie_id</th>\n",
       "      <th>title</th>\n",
       "      <th>genres</th>\n",
       "      <th>user_id</th>\n",
       "      <th>rating</th>\n",
       "      <th>timestamp</th>\n",
       "    </tr>\n",
       "  </thead>\n",
       "  <tbody>\n",
       "    <tr>\n",
       "      <th>0</th>\n",
       "      <td>1</td>\n",
       "      <td>Toy Story (1995)</td>\n",
       "      <td>Animation|Children's|Comedy</td>\n",
       "      <td>1</td>\n",
       "      <td>5</td>\n",
       "      <td>978824268</td>\n",
       "    </tr>\n",
       "    <tr>\n",
       "      <th>1</th>\n",
       "      <td>1</td>\n",
       "      <td>Toy Story (1995)</td>\n",
       "      <td>Animation|Children's|Comedy</td>\n",
       "      <td>6</td>\n",
       "      <td>4</td>\n",
       "      <td>978237008</td>\n",
       "    </tr>\n",
       "    <tr>\n",
       "      <th>2</th>\n",
       "      <td>6</td>\n",
       "      <td>Heat (1995)</td>\n",
       "      <td>Action|Crime|Thriller</td>\n",
       "      <td>5</td>\n",
       "      <td>2</td>\n",
       "      <td>978245916</td>\n",
       "    </tr>\n",
       "    <tr>\n",
       "      <th>3</th>\n",
       "      <td>16</td>\n",
       "      <td>Casino (1995)</td>\n",
       "      <td>Drama|Thriller</td>\n",
       "      <td>5</td>\n",
       "      <td>3</td>\n",
       "      <td>978245645</td>\n",
       "    </tr>\n",
       "    <tr>\n",
       "      <th>4</th>\n",
       "      <td>21</td>\n",
       "      <td>Get Shorty (1995)</td>\n",
       "      <td>Action|Comedy|Drama</td>\n",
       "      <td>2</td>\n",
       "      <td>1</td>\n",
       "      <td>978299839</td>\n",
       "    </tr>\n",
       "    <tr>\n",
       "      <th>5</th>\n",
       "      <td>24</td>\n",
       "      <td>Powder (1995)</td>\n",
       "      <td>Drama|Sci-Fi</td>\n",
       "      <td>5</td>\n",
       "      <td>1</td>\n",
       "      <td>978242934</td>\n",
       "    </tr>\n",
       "    <tr>\n",
       "      <th>6</th>\n",
       "      <td>29</td>\n",
       "      <td>City of Lost Children, The (1995)</td>\n",
       "      <td>Adventure|Sci-Fi</td>\n",
       "      <td>5</td>\n",
       "      <td>5</td>\n",
       "      <td>978245065</td>\n",
       "    </tr>\n",
       "    <tr>\n",
       "      <th>7</th>\n",
       "      <td>32</td>\n",
       "      <td>Twelve Monkeys (1995)</td>\n",
       "      <td>Drama|Sci-Fi</td>\n",
       "      <td>5</td>\n",
       "      <td>4</td>\n",
       "      <td>978244962</td>\n",
       "    </tr>\n",
       "    <tr>\n",
       "      <th>8</th>\n",
       "      <td>34</td>\n",
       "      <td>Babe (1995)</td>\n",
       "      <td>Children's|Comedy|Drama</td>\n",
       "      <td>5</td>\n",
       "      <td>4</td>\n",
       "      <td>978244603</td>\n",
       "    </tr>\n",
       "    <tr>\n",
       "      <th>9</th>\n",
       "      <td>36</td>\n",
       "      <td>Dead Man Walking (1995)</td>\n",
       "      <td>Drama</td>\n",
       "      <td>5</td>\n",
       "      <td>3</td>\n",
       "      <td>978244808</td>\n",
       "    </tr>\n",
       "  </tbody>\n",
       "</table>\n",
       "</div>"
      ],
      "text/plain": [
       "   movie_id                              title                       genres  \\\n",
       "0         1                   Toy Story (1995)  Animation|Children's|Comedy   \n",
       "1         1                   Toy Story (1995)  Animation|Children's|Comedy   \n",
       "2         6                        Heat (1995)        Action|Crime|Thriller   \n",
       "3        16                      Casino (1995)               Drama|Thriller   \n",
       "4        21                  Get Shorty (1995)          Action|Comedy|Drama   \n",
       "5        24                      Powder (1995)                 Drama|Sci-Fi   \n",
       "6        29  City of Lost Children, The (1995)             Adventure|Sci-Fi   \n",
       "7        32              Twelve Monkeys (1995)                 Drama|Sci-Fi   \n",
       "8        34                        Babe (1995)      Children's|Comedy|Drama   \n",
       "9        36            Dead Man Walking (1995)                        Drama   \n",
       "\n",
       "   user_id  rating  timestamp  \n",
       "0        1       5  978824268  \n",
       "1        6       4  978237008  \n",
       "2        5       2  978245916  \n",
       "3        5       3  978245645  \n",
       "4        2       1  978299839  \n",
       "5        5       1  978242934  \n",
       "6        5       5  978245065  \n",
       "7        5       4  978244962  \n",
       "8        5       4  978244603  \n",
       "9        5       3  978244808  "
      ]
     },
     "execution_count": 32,
     "metadata": {},
     "output_type": "execute_result"
    }
   ],
   "source": [
    "Ar1 = np.array(ratings)\n",
    "R = np.array(ratings['rating'])\n",
    "\n",
    "allratings = pd.merge(movies, ratings)\n",
    "allratings[:10]"
   ]
  },
  {
   "cell_type": "markdown",
   "metadata": {},
   "source": [
    "Lets see which movie has how many ratings"
   ]
  },
  {
   "cell_type": "code",
   "execution_count": 33,
   "metadata": {
    "collapsed": false
   },
   "outputs": [
    {
     "data": {
      "text/plain": [
       "Jurassic Park (1993)                                          3\n",
       "Star Wars: Episode IV - A New Hope (1977)                     3\n",
       "Maverick (1994)                                               2\n",
       "Pulp Fiction (1994)                                           2\n",
       "Like Water for Chocolate (Como agua para chocolate) (1992)    2\n",
       "Forrest Gump (1994)                                           2\n",
       "Speed (1994)                                                  2\n",
       "Apollo 13 (1995)                                              2\n",
       "Pocahontas (1995)                                             2\n",
       "Toy Story (1995)                                              2\n",
       "Shawshank Redemption, The (1994)                              2\n",
       "Crow, The (1994)                                              1\n",
       "Naked (1993)                                                  1\n",
       "Wyatt Earp (1994)                                             1\n",
       "Clear and Present Danger (1994)                               1\n",
       "Cliffhanger (1993)                                            1\n",
       "Broken Arrow (1996)                                           1\n",
       "Getaway, The (1994)                                           1\n",
       "Powder (1995)                                                 1\n",
       "Bullets Over Broadway (1994)                                  1\n",
       "Demolition Man (1993)                                         1\n",
       "Usual Suspects, The (1995)                                    1\n",
       "Priest (1994)                                                 1\n",
       "Four Weddings and a Funeral (1994)                            1\n",
       "Age of Innocence, The (1993)                                  1\n",
       "Desperado (1995)                                              1\n",
       "Crumb (1994)                                                  1\n",
       "Smoke (1995)                                                  1\n",
       "City of Lost Children, The (1995)                             1\n",
       "Seven (Se7en) (1995)                                          1\n",
       "Babe (1995)                                                   1\n",
       "Richard III (1995)                                            1\n",
       "Before Sunrise (1995)                                         1\n",
       "Dead Man Walking (1995)                                       1\n",
       "Don Juan DeMarco (1995)                                       1\n",
       "Get Shorty (1995)                                             1\n",
       "Mighty Aphrodite (1995)                                       1\n",
       "Casino (1995)                                                 1\n",
       "Fugitive, The (1993)                                          1\n",
       "True Lies (1994)                                              1\n",
       "Braveheart (1995)                                             1\n",
       "Death and the Maiden (1994)                                   1\n",
       "Much Ado About Nothing (1993)                                 1\n",
       "Strawberry and Chocolate (Fresa y chocolate) (1993)           1\n",
       "Mr. Jones (1993)                                              1\n",
       "Happy Gilmore (1996)                                          1\n",
       "Go Fish (1994)                                                1\n",
       "Outbreak (1995)                                               1\n",
       "Madness of King George, The (1994)                            1\n",
       "Total Eclipse (1995)                                          1\n",
       "Heat (1995)                                                   1\n",
       "Living in Oblivion (1995)                                     1\n",
       "Die Hard: With a Vengeance (1995)                             1\n",
       "Clueless (1995)                                               1\n",
       "Natural Born Killers (1994)                                   1\n",
       "Twelve Monkeys (1995)                                         1\n",
       "Ed Wood (1994)                                                1\n",
       "Lion King, The (1994)                                         1\n",
       "Name: title, dtype: int64"
      ]
     },
     "execution_count": 33,
     "metadata": {},
     "output_type": "execute_result"
    }
   ],
   "source": [
    "allratings['title'].value_counts()"
   ]
  },
  {
   "cell_type": "markdown",
   "metadata": {},
   "source": [
    "## Algorithm 1 -Item Based k-NN"
   ]
  },
  {
   "cell_type": "markdown",
   "metadata": {},
   "source": [
    "We used collaborative filtering and implemented item based k-NN algorithm to determine the recommendations. In order to implement the k-NN algorithm, we had to define a similarity function. \n",
    "\n",
    "The similarity functions that can be used in k-NN can vary, like Euclidean, Hamming, or Cosine similarity. We have chosen adjusted cosine similarity for our implementation. (Also can be found in: \"Recommendation System Based on Collaborative Filtering\", Chapter 3.1, by Zheng Wen, December 12, 2008).\n",
    "\n",
    "Algorithm follows:\n",
    "\n",
    "1-Each movie is passed to the similarity function. Similarity function need users and these users are selected from a set which the user u1 and user u2 voted for the movies that similarity function finds the similarity for.\n",
    "\n",
    "2-Most similar k movies for each movie is found using the heap structure. \n",
    "\n",
    "3-We calculate weighted average to predict the rating that the user u gives to movie m. As the weight, we use the similarity values of the movie m and the most k similar movies to m\n",
    "correspondingly.\n",
    "\n",
    "\n"
   ]
  },
  {
   "cell_type": "markdown",
   "metadata": {},
   "source": [
    "Similarity function:"
   ]
  },
  {
   "cell_type": "code",
   "execution_count": 34,
   "metadata": {
    "collapsed": true
   },
   "outputs": [],
   "source": [
    "def sim(m1, m2):  #Movies to be compared \n",
    "    sum = 0\n",
    "    diffSquare1 = 0\n",
    "    diffSquare2 = 0\n",
    "    M1 = Ar1[Ar1[:,1] == m1]\n",
    "    M2 = Ar1[Ar1[:,1] == m2]\n",
    "    commonUsers = np.intersect1d(M1[:,0], M2[:,0])\n",
    "    for i in range(len(commonUsers)):\n",
    "        userRatingMovie1 = np.array(ratings[(ratings.user_id == commonUsers[i]) & (ratings.movie_id == m1)]['rating'])[0]\n",
    "        userRatingMovie2 = np.array(ratings[(ratings.user_id == commonUsers[i]) & (ratings.movie_id == m2)]['rating'])[0]\n",
    "        U = Ar1[Ar1[:,0] == commonUsers[i]]\n",
    "        userAvgRating = float(np.mean(U[:,2]))\n",
    "        \n",
    "        diffMov1 = float(userRatingMovie1 - userAvgRating)\n",
    "        diffMov2 = float(userRatingMovie2 - userAvgRating)\n",
    "        \n",
    "        sum = float(sum + (diffMov1)*(diffMov2))\n",
    "        \n",
    "        diffSquare1 = diffSquare1 + pow(diffMov1,2)\n",
    "        diffSquare2 = diffSquare2 + pow(diffMov2,2)\n",
    "        \n",
    "    #sim = float(float(sum)/float(math.sqrt(diffSquare1*diffSquare2)))\n",
    "    if((diffSquare1 == 0.0) | (diffSquare2 == 0.0)):\n",
    "        return 0\n",
    "    else:\n",
    "        simval = float(sum)/float(math.sqrt(diffSquare1*diffSquare2))\n",
    "    return simval"
   ]
  },
  {
   "cell_type": "markdown",
   "metadata": {},
   "source": [
    "Heap:"
   ]
  },
  {
   "cell_type": "code",
   "execution_count": 35,
   "metadata": {
    "collapsed": true
   },
   "outputs": [],
   "source": [
    "# Use a heap to store the smallest items\n",
    "# Define an object and overload custom comparison operators\n",
    "class tup:\n",
    "    def __init__(self, val, idx):\n",
    "        self.val = val\n",
    "        self.idx = idx\n",
    "                \n",
    "    def __lt__(self, other):\n",
    "        '''Redefine for max-heap'''\n",
    "        return self.val > other.val\n",
    "    \n",
    "    def __le__(self, other):\n",
    "        return self.val <= other.val\n",
    " \n",
    "    def __eq__(self, other):\n",
    "        return self.val == other.val\n",
    "    \n",
    "    def __ne__(self, other):\n",
    "        return self.val != other.val\n",
    "\n",
    "    def __gt__(self, other):\n",
    "        return self.val > other.val\n",
    "\n",
    "    def __ge__(self, other):\n",
    "        return self.val >= other.val\n",
    "\n",
    "    def __str__(self):\n",
    "        return '{:.3},{:d}'.format(self.val,self.idx)"
   ]
  },
  {
   "cell_type": "markdown",
   "metadata": {},
   "source": [
    "Our recommendation function"
   ]
  },
  {
   "cell_type": "code",
   "execution_count": 36,
   "metadata": {
    "collapsed": true
   },
   "outputs": [],
   "source": [
    "def recommendMovies(user_id,heapsize):\n",
    "    user_id = 1 #user id to give recommendation\n",
    "    heapsize = 20\n",
    "    # Heap with dummy data\n",
    "    heap = []\n",
    "    for i in range(heapsize):\n",
    "        hp.heappush(heap, tup(0.0, -1))\n",
    "\n",
    "    usersRatedMovies= np.array(ratings[(ratings.user_id == user_id)]['movie_id'])\n",
    "    allMovies = np.array(ratings['movie_id'])\n",
    "    usersUnRatedMovies = list(set(allMovies) - set(usersRatedMovies))\n",
    "\n",
    "    N = allMovies.shape[0]   \n",
    "    comparedMovie = 1\n",
    "    rankings = []\n",
    "    for k in range(len(usersUnRatedMovies)):\n",
    "        if(len(usersUnRatedMovies)>k):\n",
    "            comparedMovie = usersUnRatedMovies[k]\n",
    "            simSum = 0\n",
    "            for m in range(N):\n",
    "                simValue = sim(comparedMovie, allMovies[m])\n",
    "                simSum += simValue\n",
    "                tp = tup(simValue, allMovies[m])\n",
    "                if tp <= heap[0]:\n",
    "                    hp.heapreplace(heap, tp)\n",
    "            prediction = 0.0\n",
    "            for j in range(len(heap)):\n",
    "                h = hp.heappop(heap)\n",
    "                prediction += h.val*ratings[(ratings.user_id == 1)][(ratings.movie_id == h.idx)]['rating']\n",
    "            prediction = prediction/simSum\n",
    "            rankings.append((prediction, comparedMovie))\n",
    "        heap = []\n",
    "        for i in range(heapsize):\n",
    "            hp.heappush(heap, tup(0.0, -1))\n",
    "            \n",
    "    print(\"success\")"
   ]
  },
  {
   "cell_type": "code",
   "execution_count": 37,
   "metadata": {
    "collapsed": false
   },
   "outputs": [
    {
     "name": "stdout",
     "output_type": "stream",
     "text": [
      "success\n"
     ]
    },
    {
     "name": "stderr",
     "output_type": "stream",
     "text": [
      "C:\\Users\\MONSTER\\Anaconda3\\lib\\site-packages\\pandas\\core\\frame.py:1997: UserWarning: Boolean Series key will be reindexed to match DataFrame index.\n",
      "  \"DataFrame index.\", UserWarning)\n"
     ]
    }
   ],
   "source": [
    "recommendMovies(1, 20)"
   ]
  },
  {
   "cell_type": "markdown",
   "metadata": {},
   "source": [
    "## Algorithm 2 - Stochastic Gradient Descent"
   ]
  },
  {
   "cell_type": "markdown",
   "metadata": {},
   "source": [
    "We implemented SGD as our second algorithm."
   ]
  },
  {
   "cell_type": "code",
   "execution_count": 42,
   "metadata": {
    "collapsed": false
   },
   "outputs": [
    {
     "data": {
      "text/plain": [
       "2029"
      ]
     },
     "execution_count": 42,
     "metadata": {},
     "output_type": "execute_result"
    }
   ],
   "source": [
    "userM = np.matrix(ratings.user_id).T\n",
    "movieM = np.matrix(ratings.movie_id).T\n",
    "ratingM = np.matrix(ratings.rating).T\n",
    "\n",
    "userLength = np.hstack(set(ratings['user_id']))[-1]\n",
    "movieLength = np.hstack(set(ratings['movie_id']))[-1]\n",
    "\n",
    "userStart = np.matrix([0]*(userLength+1)).T \n",
    "movieStart = np.matrix([0]*(movieLength+1)) \n",
    "Y = userStart*movieStart\n",
    "M = Y\n",
    "Ys = np.hstack([ratingM,userM,movieM])\n",
    "Ysize = Ys.shape[0]\n",
    "\n",
    "userLength\n",
    "movieLength"
   ]
  },
  {
   "cell_type": "markdown",
   "metadata": {},
   "source": [
    "We have Y as our sparse matrix here. Y matrix has users as its rows and movies as its columns. Elements are ratings.\n",
    "On the other hand, Ys matrix is a combination of ratings, users and movies."
   ]
  },
  {
   "cell_type": "code",
   "execution_count": 39,
   "metadata": {
    "collapsed": false
   },
   "outputs": [
    {
     "data": {
      "text/plain": [
       "matrix([[   5,    1, 1193],\n",
       "        [   3,    1,  661],\n",
       "        [   3,    1,  914],\n",
       "        [   4,    1, 3408],\n",
       "        [   5,    1, 2355],\n",
       "        [   3,    1, 1197],\n",
       "        [   5,    1, 1287],\n",
       "        [   5,    1, 2804],\n",
       "        [   4,    1,  594],\n",
       "        [   4,    1,  919]], dtype=int64)"
      ]
     },
     "execution_count": 39,
     "metadata": {},
     "output_type": "execute_result"
    }
   ],
   "source": [
    "Ys[:10]"
   ]
  },
  {
   "cell_type": "markdown",
   "metadata": {},
   "source": [
    "SGD Algorithm:\n",
    "    \n",
    "1-First, we create random A and B matrices. \n",
    "\n",
    "2-Then we find the error by substracting A*B from our actual Y matrix.\n",
    "\n",
    "3-We find the elements of A and B iteratively by reducing the learning rate(eta).\n",
    "\n",
    "4-This way we fill the blanks of sparse Y matrix and now have the movie predictions.\n",
    "\n",
    "5-Any prediction/recommendation can be made by this final matrix.\n"
   ]
  },
  {
   "cell_type": "code",
   "execution_count": 50,
   "metadata": {
    "collapsed": false
   },
   "outputs": [],
   "source": [
    "A = np.mat(np.random.rand(userLength+1, 1))\n",
    "B = np.mat(np.random.rand(1, movieLength+1))\n",
    "\n",
    "EPOCH = 5\n",
    "Eta = 0.1\n",
    "eta = Eta\n",
    "\n",
    "i=0\n",
    "k=0\n",
    "for i in range(EPOCH):\n",
    "    E = np.array(M)*np.array(Y - A*B)\n",
    "    Err = np.sum(E*E)/np.sum(np.array(M))\n",
    "        \n",
    "    for k in range(Ysize):\n",
    "        u = Ys[k,0]\n",
    "        m = Ys[k,1]\n",
    "        \n",
    "        err = Ys[k,0] - A[u,:]*B[:,m]\n",
    "        \n",
    "        temp_A = A[u,:] + eta*err[0,0]*B[:,m].T\n",
    "        B[:,m]   = B[:,m] + eta*err[0,0]*A[u,:].T\n",
    "        A[u,:]   = temp_A\n",
    "    \n",
    "    eta = Eta*1./(i+1)"
   ]
  },
  {
   "cell_type": "code",
   "execution_count": 62,
   "metadata": {
    "collapsed": false
   },
   "outputs": [
    {
     "name": "stdout",
     "output_type": "stream",
     "text": [
      "1 0    Toy Story (1995)\n",
      "1    Toy Story (1995)\n",
      "Name: title, dtype: object\n",
      "6 2    Heat (1995)\n",
      "Name: title, dtype: object\n",
      "5 Series([], Name: title, dtype: object)\n"
     ]
    }
   ],
   "source": [
    "res = A*B #final result matrix\n",
    "user_id = 5 #example user id to recommend\n",
    "userResult = [(0,0)]\n",
    "for m in range (movieLength):\n",
    "    movieTuple = (res[user_id,m],m)\n",
    "    userResult.append(movieTuple)\n",
    "userResult = sorted(userResult, key=lambda tup: tup[0], reverse=True)\n",
    "\n",
    "#3 movies to recommend\n",
    "for n in range(3):\n",
    "    movie_id = userResult[n][1]\n",
    "    movie_name = allratings[(allratings.movie_id == movie_id)]['title']\n",
    "    print(movie_id, movie_name)\n"
   ]
  },
  {
   "cell_type": "code",
   "execution_count": null,
   "metadata": {
    "collapsed": true
   },
   "outputs": [],
   "source": []
  }
 ],
 "metadata": {
  "kernelspec": {
   "display_name": "Python 3",
   "language": "python",
   "name": "python3"
  },
  "language_info": {
   "codemirror_mode": {
    "name": "ipython",
    "version": 3
   },
   "file_extension": ".py",
   "mimetype": "text/x-python",
   "name": "python",
   "nbconvert_exporter": "python",
   "pygments_lexer": "ipython3",
   "version": "3.5.1"
  }
 },
 "nbformat": 4,
 "nbformat_minor": 0
}
