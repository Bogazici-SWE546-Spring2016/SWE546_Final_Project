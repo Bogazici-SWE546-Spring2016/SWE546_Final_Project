{
 "cells": [
  {
   "cell_type": "markdown",
   "metadata": {
    "collapsed": false
   },
   "source": [
    "# Movielens Recommendation System"
   ]
  },
  {
   "cell_type": "markdown",
   "metadata": {},
   "source": [
    "by Umur Türkay and Yasemin Alpay"
   ]
  },
  {
   "cell_type": "code",
   "execution_count": 1,
   "metadata": {
    "collapsed": true
   },
   "outputs": [],
   "source": [
    "%matplotlib inline\n",
    "import matplotlib.pyplot as plt\n",
    "import numpy as np\n",
    "import scipy as sc\n",
    "import scipy.linalg as la\n",
    "import pandas as pd\n",
    "import heapq as hp\n",
    "import math\n"
   ]
  },
  {
   "cell_type": "markdown",
   "metadata": {},
   "source": [
    "First we read the rating data using pandas library."
   ]
  },
  {
   "cell_type": "code",
   "execution_count": 2,
   "metadata": {
    "collapsed": false
   },
   "outputs": [],
   "source": [
    "rnames = ['user_id', 'movie_id', 'rating', 'timestamp'] \n",
    "mnames  = ['movie_id', 'title', 'genres']\n",
    "ratings = pd.read_table('data/ratings.dat', sep='::', header=None, names=rnames, engine='python')\n",
    "movies  = pd.read_table(u'data/movies.dat', sep='::', header=None, names=mnames, engine = 'python')"
   ]
  },
  {
   "cell_type": "code",
   "execution_count": 3,
   "metadata": {
    "collapsed": false
   },
   "outputs": [
    {
     "data": {
      "text/html": [
       "<div>\n",
       "<table border=\"1\" class=\"dataframe\">\n",
       "  <thead>\n",
       "    <tr style=\"text-align: right;\">\n",
       "      <th></th>\n",
       "      <th>movie_id</th>\n",
       "      <th>title</th>\n",
       "      <th>genres</th>\n",
       "    </tr>\n",
       "  </thead>\n",
       "  <tbody>\n",
       "    <tr>\n",
       "      <th>0</th>\n",
       "      <td>1</td>\n",
       "      <td>Toy Story (1995)</td>\n",
       "      <td>Animation|Children's|Comedy</td>\n",
       "    </tr>\n",
       "    <tr>\n",
       "      <th>1</th>\n",
       "      <td>2</td>\n",
       "      <td>Jumanji (1995)</td>\n",
       "      <td>Adventure|Children's|Fantasy</td>\n",
       "    </tr>\n",
       "    <tr>\n",
       "      <th>2</th>\n",
       "      <td>3</td>\n",
       "      <td>Grumpier Old Men (1995)</td>\n",
       "      <td>Comedy|Romance</td>\n",
       "    </tr>\n",
       "    <tr>\n",
       "      <th>3</th>\n",
       "      <td>4</td>\n",
       "      <td>Waiting to Exhale (1995)</td>\n",
       "      <td>Comedy|Drama</td>\n",
       "    </tr>\n",
       "    <tr>\n",
       "      <th>4</th>\n",
       "      <td>5</td>\n",
       "      <td>Father of the Bride Part II (1995)</td>\n",
       "      <td>Comedy</td>\n",
       "    </tr>\n",
       "    <tr>\n",
       "      <th>5</th>\n",
       "      <td>6</td>\n",
       "      <td>Heat (1995)</td>\n",
       "      <td>Action|Crime|Thriller</td>\n",
       "    </tr>\n",
       "    <tr>\n",
       "      <th>6</th>\n",
       "      <td>7</td>\n",
       "      <td>Sabrina (1995)</td>\n",
       "      <td>Comedy|Romance</td>\n",
       "    </tr>\n",
       "    <tr>\n",
       "      <th>7</th>\n",
       "      <td>8</td>\n",
       "      <td>Tom and Huck (1995)</td>\n",
       "      <td>Adventure|Children's</td>\n",
       "    </tr>\n",
       "    <tr>\n",
       "      <th>8</th>\n",
       "      <td>9</td>\n",
       "      <td>Sudden Death (1995)</td>\n",
       "      <td>Action</td>\n",
       "    </tr>\n",
       "    <tr>\n",
       "      <th>9</th>\n",
       "      <td>10</td>\n",
       "      <td>GoldenEye (1995)</td>\n",
       "      <td>Action|Adventure|Thriller</td>\n",
       "    </tr>\n",
       "  </tbody>\n",
       "</table>\n",
       "</div>"
      ],
      "text/plain": [
       "   movie_id                               title                        genres\n",
       "0         1                    Toy Story (1995)   Animation|Children's|Comedy\n",
       "1         2                      Jumanji (1995)  Adventure|Children's|Fantasy\n",
       "2         3             Grumpier Old Men (1995)                Comedy|Romance\n",
       "3         4            Waiting to Exhale (1995)                  Comedy|Drama\n",
       "4         5  Father of the Bride Part II (1995)                        Comedy\n",
       "5         6                         Heat (1995)         Action|Crime|Thriller\n",
       "6         7                      Sabrina (1995)                Comedy|Romance\n",
       "7         8                 Tom and Huck (1995)          Adventure|Children's\n",
       "8         9                 Sudden Death (1995)                        Action\n",
       "9        10                    GoldenEye (1995)     Action|Adventure|Thriller"
      ]
     },
     "execution_count": 3,
     "metadata": {},
     "output_type": "execute_result"
    }
   ],
   "source": [
    "movies [:10]"
   ]
  },
  {
   "cell_type": "code",
   "execution_count": 4,
   "metadata": {
    "collapsed": false
   },
   "outputs": [
    {
     "data": {
      "text/html": [
       "<div>\n",
       "<table border=\"1\" class=\"dataframe\">\n",
       "  <thead>\n",
       "    <tr style=\"text-align: right;\">\n",
       "      <th></th>\n",
       "      <th>user_id</th>\n",
       "      <th>movie_id</th>\n",
       "      <th>rating</th>\n",
       "      <th>timestamp</th>\n",
       "    </tr>\n",
       "  </thead>\n",
       "  <tbody>\n",
       "    <tr>\n",
       "      <th>0</th>\n",
       "      <td>1</td>\n",
       "      <td>1193</td>\n",
       "      <td>5</td>\n",
       "      <td>978300760</td>\n",
       "    </tr>\n",
       "    <tr>\n",
       "      <th>1</th>\n",
       "      <td>1</td>\n",
       "      <td>661</td>\n",
       "      <td>3</td>\n",
       "      <td>978302109</td>\n",
       "    </tr>\n",
       "    <tr>\n",
       "      <th>2</th>\n",
       "      <td>1</td>\n",
       "      <td>914</td>\n",
       "      <td>3</td>\n",
       "      <td>978301968</td>\n",
       "    </tr>\n",
       "    <tr>\n",
       "      <th>3</th>\n",
       "      <td>1</td>\n",
       "      <td>3408</td>\n",
       "      <td>4</td>\n",
       "      <td>978300275</td>\n",
       "    </tr>\n",
       "    <tr>\n",
       "      <th>4</th>\n",
       "      <td>1</td>\n",
       "      <td>2355</td>\n",
       "      <td>5</td>\n",
       "      <td>978824291</td>\n",
       "    </tr>\n",
       "    <tr>\n",
       "      <th>5</th>\n",
       "      <td>1</td>\n",
       "      <td>1197</td>\n",
       "      <td>3</td>\n",
       "      <td>978302268</td>\n",
       "    </tr>\n",
       "    <tr>\n",
       "      <th>6</th>\n",
       "      <td>1</td>\n",
       "      <td>1287</td>\n",
       "      <td>5</td>\n",
       "      <td>978302039</td>\n",
       "    </tr>\n",
       "    <tr>\n",
       "      <th>7</th>\n",
       "      <td>1</td>\n",
       "      <td>2804</td>\n",
       "      <td>5</td>\n",
       "      <td>978300719</td>\n",
       "    </tr>\n",
       "    <tr>\n",
       "      <th>8</th>\n",
       "      <td>1</td>\n",
       "      <td>594</td>\n",
       "      <td>4</td>\n",
       "      <td>978302268</td>\n",
       "    </tr>\n",
       "    <tr>\n",
       "      <th>9</th>\n",
       "      <td>1</td>\n",
       "      <td>919</td>\n",
       "      <td>4</td>\n",
       "      <td>978301368</td>\n",
       "    </tr>\n",
       "  </tbody>\n",
       "</table>\n",
       "</div>"
      ],
      "text/plain": [
       "   user_id  movie_id  rating  timestamp\n",
       "0        1      1193       5  978300760\n",
       "1        1       661       3  978302109\n",
       "2        1       914       3  978301968\n",
       "3        1      3408       4  978300275\n",
       "4        1      2355       5  978824291\n",
       "5        1      1197       3  978302268\n",
       "6        1      1287       5  978302039\n",
       "7        1      2804       5  978300719\n",
       "8        1       594       4  978302268\n",
       "9        1       919       4  978301368"
      ]
     },
     "execution_count": 4,
     "metadata": {},
     "output_type": "execute_result"
    }
   ],
   "source": [
    "ratings[:10]"
   ]
  },
  {
   "cell_type": "code",
   "execution_count": 5,
   "metadata": {
    "collapsed": false
   },
   "outputs": [
    {
     "data": {
      "text/html": [
       "<div>\n",
       "<table border=\"1\" class=\"dataframe\">\n",
       "  <thead>\n",
       "    <tr style=\"text-align: right;\">\n",
       "      <th></th>\n",
       "      <th>movie_id</th>\n",
       "      <th>title</th>\n",
       "      <th>genres</th>\n",
       "      <th>user_id</th>\n",
       "      <th>rating</th>\n",
       "      <th>timestamp</th>\n",
       "    </tr>\n",
       "  </thead>\n",
       "  <tbody>\n",
       "    <tr>\n",
       "      <th>0</th>\n",
       "      <td>1</td>\n",
       "      <td>Toy Story (1995)</td>\n",
       "      <td>Animation|Children's|Comedy</td>\n",
       "      <td>1</td>\n",
       "      <td>5</td>\n",
       "      <td>978824268</td>\n",
       "    </tr>\n",
       "    <tr>\n",
       "      <th>1</th>\n",
       "      <td>1</td>\n",
       "      <td>Toy Story (1995)</td>\n",
       "      <td>Animation|Children's|Comedy</td>\n",
       "      <td>6</td>\n",
       "      <td>4</td>\n",
       "      <td>978237008</td>\n",
       "    </tr>\n",
       "    <tr>\n",
       "      <th>2</th>\n",
       "      <td>1</td>\n",
       "      <td>Toy Story (1995)</td>\n",
       "      <td>Animation|Children's|Comedy</td>\n",
       "      <td>8</td>\n",
       "      <td>4</td>\n",
       "      <td>978233496</td>\n",
       "    </tr>\n",
       "    <tr>\n",
       "      <th>3</th>\n",
       "      <td>1</td>\n",
       "      <td>Toy Story (1995)</td>\n",
       "      <td>Animation|Children's|Comedy</td>\n",
       "      <td>9</td>\n",
       "      <td>5</td>\n",
       "      <td>978225952</td>\n",
       "    </tr>\n",
       "    <tr>\n",
       "      <th>4</th>\n",
       "      <td>1</td>\n",
       "      <td>Toy Story (1995)</td>\n",
       "      <td>Animation|Children's|Comedy</td>\n",
       "      <td>10</td>\n",
       "      <td>5</td>\n",
       "      <td>978226474</td>\n",
       "    </tr>\n",
       "    <tr>\n",
       "      <th>5</th>\n",
       "      <td>1</td>\n",
       "      <td>Toy Story (1995)</td>\n",
       "      <td>Animation|Children's|Comedy</td>\n",
       "      <td>18</td>\n",
       "      <td>4</td>\n",
       "      <td>978154768</td>\n",
       "    </tr>\n",
       "    <tr>\n",
       "      <th>6</th>\n",
       "      <td>1</td>\n",
       "      <td>Toy Story (1995)</td>\n",
       "      <td>Animation|Children's|Comedy</td>\n",
       "      <td>19</td>\n",
       "      <td>5</td>\n",
       "      <td>978555994</td>\n",
       "    </tr>\n",
       "    <tr>\n",
       "      <th>7</th>\n",
       "      <td>1</td>\n",
       "      <td>Toy Story (1995)</td>\n",
       "      <td>Animation|Children's|Comedy</td>\n",
       "      <td>21</td>\n",
       "      <td>3</td>\n",
       "      <td>978139347</td>\n",
       "    </tr>\n",
       "    <tr>\n",
       "      <th>8</th>\n",
       "      <td>1</td>\n",
       "      <td>Toy Story (1995)</td>\n",
       "      <td>Animation|Children's|Comedy</td>\n",
       "      <td>23</td>\n",
       "      <td>4</td>\n",
       "      <td>978463614</td>\n",
       "    </tr>\n",
       "    <tr>\n",
       "      <th>9</th>\n",
       "      <td>1</td>\n",
       "      <td>Toy Story (1995)</td>\n",
       "      <td>Animation|Children's|Comedy</td>\n",
       "      <td>26</td>\n",
       "      <td>3</td>\n",
       "      <td>978130703</td>\n",
       "    </tr>\n",
       "  </tbody>\n",
       "</table>\n",
       "</div>"
      ],
      "text/plain": [
       "   movie_id             title                       genres  user_id  rating  \\\n",
       "0         1  Toy Story (1995)  Animation|Children's|Comedy        1       5   \n",
       "1         1  Toy Story (1995)  Animation|Children's|Comedy        6       4   \n",
       "2         1  Toy Story (1995)  Animation|Children's|Comedy        8       4   \n",
       "3         1  Toy Story (1995)  Animation|Children's|Comedy        9       5   \n",
       "4         1  Toy Story (1995)  Animation|Children's|Comedy       10       5   \n",
       "5         1  Toy Story (1995)  Animation|Children's|Comedy       18       4   \n",
       "6         1  Toy Story (1995)  Animation|Children's|Comedy       19       5   \n",
       "7         1  Toy Story (1995)  Animation|Children's|Comedy       21       3   \n",
       "8         1  Toy Story (1995)  Animation|Children's|Comedy       23       4   \n",
       "9         1  Toy Story (1995)  Animation|Children's|Comedy       26       3   \n",
       "\n",
       "   timestamp  \n",
       "0  978824268  \n",
       "1  978237008  \n",
       "2  978233496  \n",
       "3  978225952  \n",
       "4  978226474  \n",
       "5  978154768  \n",
       "6  978555994  \n",
       "7  978139347  \n",
       "8  978463614  \n",
       "9  978130703  "
      ]
     },
     "execution_count": 5,
     "metadata": {},
     "output_type": "execute_result"
    }
   ],
   "source": [
    "allratings = pd.merge(movies, ratings)\n",
    "allratings[:10]"
   ]
  },
  {
   "cell_type": "markdown",
   "metadata": {},
   "source": [
    "## Algorithm 1 -Item Based k-NN"
   ]
  },
  {
   "cell_type": "markdown",
   "metadata": {},
   "source": [
    "We used collaborative filtering and implemented item based k-NN algorithm to determine the recommendations. In order to implement the k-NN algorithm, we had to define a similarity function. \n",
    "\n",
    "The similarity functions that can be used in k-NN can vary, like Euclidean, Hamming, or Cosine similarity. We have chosen adjusted cosine similarity for our implementation. (Also can be found in: \"Recommendation System Based on Collaborative Filtering\", Chapter 3.1, by Zheng Wen, December 12, 2008).\n",
    "\n",
    "Algorithm follows:\n",
    "\n",
    "1-Each movie is passed to the similarity function. Similarity function need users and these users are selected from a set which the user u1 and user u2 voted for the movies that similarity function finds the similarity for.\n",
    "\n",
    "2-Most similar k movies for each movie is found using the heap structure. \n",
    "\n",
    "3-We calculate weighted average to predict the rating that the user u gives to movie m. As the weight, we use the similarity values of the movie m and the most k similar movies to m\n",
    "correspondingly.\n",
    "\n",
    "\n"
   ]
  },
  {
   "cell_type": "markdown",
   "metadata": {},
   "source": [
    "Similarity function:"
   ]
  },
  {
   "cell_type": "code",
   "execution_count": 6,
   "metadata": {
    "collapsed": true
   },
   "outputs": [],
   "source": [
    "def sim(m1, m2):  #Movies to be compared \n",
    "    sum = 0\n",
    "    diffSquare1 = 0\n",
    "    diffSquare2 = 0\n",
    "    M1 = A[A[:,1] == m1]\n",
    "    M2 = A[A[:,1] == m2]\n",
    "    commonUsers = np.intersect1d(M1[:,0], M2[:,0])\n",
    "    for i in range(len(commonUsers)):\n",
    "        userRatingMovie1 = np.array(ratings[(ratings.user_id == commonUsers[i]) & (ratings.movie_id == m1)]['rating'])[0]\n",
    "        userRatingMovie2 = np.array(ratings[(ratings.user_id == commonUsers[i]) & (ratings.movie_id == m2)]['rating'])[0]\n",
    "        U = A[A[:,0] == commonUsers[i]]\n",
    "        userAvgRating = float(np.mean(U[:,2]))\n",
    "        \n",
    "        diffMov1 = float(userRatingMovie1 - userAvgRating)\n",
    "        diffMov2 = float(userRatingMovie2 - userAvgRating)\n",
    "        \n",
    "        sum = float(sum + (diffMov1)*(diffMov2))\n",
    "        \n",
    "        diffSquare1 = diffSquare1 + pow(diffMov1,2)\n",
    "        diffSquare2 = diffSquare2 + pow(diffMov2,2)\n",
    "        \n",
    "    sim = float(float(sum)/float(math.sqrt(diffSquare1*diffSquare2)))\n",
    "    return sim"
   ]
  },
  {
   "cell_type": "markdown",
   "metadata": {},
   "source": [
    "Heap:"
   ]
  },
  {
   "cell_type": "code",
   "execution_count": 7,
   "metadata": {
    "collapsed": true
   },
   "outputs": [],
   "source": [
    "# Use a heap to store the smallest items\n",
    "# Define an object and overload custom comparison operators\n",
    "class tup:\n",
    "    def __init__(self, val, idx):\n",
    "        self.val = val\n",
    "        self.idx = idx\n",
    "                \n",
    "    def __lt__(self, other):\n",
    "        '''Redefine for max-heap'''\n",
    "        return self.val > other.val\n",
    "    \n",
    "    def __le__(self, other):\n",
    "        return self.val <= other.val\n",
    " \n",
    "    def __eq__(self, other):\n",
    "        return self.val == other.val\n",
    "    \n",
    "    def __ne__(self, other):\n",
    "        return self.val != other.val\n",
    "\n",
    "    def __gt__(self, other):\n",
    "        return self.val > other.val\n",
    "\n",
    "    def __ge__(self, other):\n",
    "        return self.val >= other.val\n",
    "\n",
    "    def __str__(self):\n",
    "        return '{:.3},{:d}'.format(self.val,self.idx)"
   ]
  },
  {
   "cell_type": "code",
   "execution_count": 8,
   "metadata": {
    "collapsed": false
   },
   "outputs": [
    {
     "name": "stdout",
     "output_type": "stream",
     "text": [
      "11\n",
      "****\n",
      "1000209\n",
      "661\n"
     ]
    }
   ],
   "source": [
    "user_id = 1 #user id to give recommendation\n",
    "heapSize\n",
    "\n",
    "usersRatedMovies= np.array(ratings[(ratings.user_id == user_id)]['movie_id'])\n",
    "allMovies = np.array(ratings['movie_id'])\n",
    "usersUnRatedMovies = list(set(allMovies) - set(usersRatedMovies))\n",
    "\n",
    "N = allMovies.shape[0]   \n",
    "comparedMovie = 1\n",
    "rankings = []\n",
    "for k in range(len(usersUnRatedMovies)):\n",
    "    if(len(usersUnRatedMovies)>k):\n",
    "        comparedMovie = usersUnRatedMovies[k]\n",
    "        simSum = 0\n",
    "        for m in range(N):\n",
    "            simValue = sim(comparedMovie, allMovies[m])\n",
    "            simSum += simValue\n",
    "            tp = tup(simValue, allMovies[m])\n",
    "            if tp <= heap[0]:\n",
    "                hp.heapreplace(heap, tp)\n",
    "        prediction = 0.0\n",
    "        for j in range(len(heap)):\n",
    "            h = hp.heappop(heap)\n",
    "            prediction += h.val*ratings[(ratings.user_id == 1)][(ratings.movie_id == h.idx)]['rating']\n",
    "        prediction = prediction/simSum\n",
    "        rankings.append(prediction, comparedMovie)\n",
    "        \n",
    "rankings.sort()\n",
    "rankings.reverse()\n"
   ]
  },
  {
   "cell_type": "markdown",
   "metadata": {},
   "source": [
    "## Algorithm 2 - Stochastic Gradient Descent"
   ]
  },
  {
   "cell_type": "markdown",
   "metadata": {},
   "source": [
    "We implemented SGD as our second algorithm."
   ]
  },
  {
   "cell_type": "code",
   "execution_count": 8,
   "metadata": {
    "collapsed": true
   },
   "outputs": [],
   "source": [
    "userM = np.matrix(ratings.user_id).T\n",
    "movieM = np.matrix(ratings.movie_id).T\n",
    "ratingM = np.matrix(ratings.rating).T\n",
    "\n",
    "userLength = np.hstack(set(ratings['user_id']))[-1]\n",
    "movieLength = np.hstack(set(ratings['movie_id']))[-1]\n",
    "\n",
    "userStart = np.matrix([0]*(userLength+1)).T \n",
    "movieStart = np.matrix([0]*(movieLength+1)) \n",
    "Y = userStart*movieStart\n",
    "M = Y\n",
    "Ys = np.hstack([ratingM,userM,movieM])\n",
    "Ysize = Ys.shape[0]"
   ]
  },
  {
   "cell_type": "markdown",
   "metadata": {},
   "source": [
    "We have Y as our sparse matrix here. Y matrix has users as its rows and movies as its columns. Elements are ratings.\n",
    "On the other hand, Ys matrix is a combination of ratings, users and movies."
   ]
  },
  {
   "cell_type": "code",
   "execution_count": 9,
   "metadata": {
    "collapsed": false
   },
   "outputs": [
    {
     "data": {
      "text/plain": [
       "matrix([[   5,    1, 1193],\n",
       "        [   3,    1,  661],\n",
       "        [   3,    1,  914],\n",
       "        [   4,    1, 3408],\n",
       "        [   5,    1, 2355],\n",
       "        [   3,    1, 1197],\n",
       "        [   5,    1, 1287],\n",
       "        [   5,    1, 2804],\n",
       "        [   4,    1,  594],\n",
       "        [   4,    1,  919]], dtype=int64)"
      ]
     },
     "execution_count": 9,
     "metadata": {},
     "output_type": "execute_result"
    }
   ],
   "source": [
    "Ys[:10]"
   ]
  },
  {
   "cell_type": "markdown",
   "metadata": {},
   "source": [
    "SGD Algorithm:\n",
    "    \n",
    "1-First, we create random A and B matrices. \n",
    "\n",
    "2-Then we find the error by substracting A*B from our actual Y matrix.\n",
    "\n",
    "3-We find the elements of A and B iteratively by reducing the learning rate(eta).\n",
    "\n",
    "4-This way we fill the blanks of sparse Y matrix and now have the movie predictions.\n",
    "\n",
    "5-Any prediction/recommendation can be made by this final matrix.\n"
   ]
  },
  {
   "cell_type": "code",
   "execution_count": null,
   "metadata": {
    "collapsed": false
   },
   "outputs": [],
   "source": [
    "A = np.mat(np.random.rand(userLength+1, 1))\n",
    "B = np.mat(np.random.rand(1, movieLength+1))\n",
    "\n",
    "EPOCH = 5\n",
    "Eta = 0.1\n",
    "eta = Eta\n",
    "\n",
    "for i in range(EPOCH):\n",
    "    E = np.array(M)*np.array(Y - A*B)\n",
    "    Err = np.sum(E*E)/np.sum(np.array(M))\n",
    "        \n",
    "    for k in range(Ysize):\n",
    "        u = Ys[k,1]\n",
    "        m = Ys[k,2]\n",
    "        \n",
    "        err = Ys[k,0] - A[u,:]*B[:,m]\n",
    "        \n",
    "        temp_A = A[u,:] + eta*err[0,0]*B[:,m].T\n",
    "        B[:,m]   = B[:,m] + eta*err[0,0]*A[u,:].T\n",
    "        A[u,:]   = temp_A\n",
    "    \n",
    "    eta = Eta*1./(i+1)"
   ]
  },
  {
   "cell_type": "code",
   "execution_count": null,
   "metadata": {
    "collapsed": false
   },
   "outputs": [],
   "source": [
    "res = A*B #final result matrix\n",
    "user_id = 5 #example user id to recommend\n",
    "userResult = [(0,0)]\n",
    "for m in range (movieLength):\n",
    "    movieTuple = (res[user_id,m],m)\n",
    "    userResult.append(movieTuple)\n",
    "userResult = sorted(userResult, key=lambda tup: tup[0], reverse=True)\n",
    "\n",
    "#10 movies to recommend\n",
    "for n in range(10):\n",
    "    movie_id = userResult[n][1]\n",
    "    movie_name = allratings[(allratings.movie_id == movie_id)]['title'][0]\n",
    "    print(movie_id, movie_name)\n"
   ]
  },
  {
   "cell_type": "code",
   "execution_count": null,
   "metadata": {
    "collapsed": true
   },
   "outputs": [],
   "source": []
  }
 ],
 "metadata": {
  "kernelspec": {
   "display_name": "Python 2",
   "language": "python",
   "name": "python2"
  },
  "language_info": {
   "codemirror_mode": {
    "name": "ipython",
    "version": 2
   },
   "file_extension": ".py",
   "mimetype": "text/x-python",
   "name": "python",
   "nbconvert_exporter": "python",
   "pygments_lexer": "ipython2",
   "version": "2.7.11"
  }
 },
 "nbformat": 4,
 "nbformat_minor": 0
}
